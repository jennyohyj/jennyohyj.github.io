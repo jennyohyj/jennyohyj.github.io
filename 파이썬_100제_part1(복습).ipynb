{
  "nbformat": 4,
  "nbformat_minor": 0,
  "metadata": {
    "colab": {
      "name": "파이썬 100제 part1(복습).ipynb",
      "provenance": [],
      "authorship_tag": "ABX9TyN+DD9X4J4KkeMW2OsrueX2",
      "include_colab_link": true
    },
    "kernelspec": {
      "name": "python3",
      "display_name": "Python 3"
    },
    "language_info": {
      "name": "python"
    }
  },
  "cells": [
    {
      "cell_type": "markdown",
      "metadata": {
        "id": "view-in-github",
        "colab_type": "text"
      },
      "source": [
        "<a href=\"https://colab.research.google.com/github/jennyohyj/jennyohyj.github.io/blob/%ED%8C%8C%EC%9D%B4%EC%8D%AC-100%EC%A0%9C-%EB%B3%B5%EC%8A%B5/%ED%8C%8C%EC%9D%B4%EC%8D%AC_100%EC%A0%9C_part1(%EB%B3%B5%EC%8A%B5).ipynb\" target=\"_parent\"><img src=\"https://colab.research.google.com/assets/colab-badge.svg\" alt=\"Open In Colab\"/></a>"
      ]
    },
    {
      "cell_type": "code",
      "execution_count": 3,
      "metadata": {
        "id": "pVBeKbPIXldl"
      },
      "outputs": [],
      "source": [
        "a,b,c,d=100,3.14,'k','korea'"
      ]
    },
    {
      "cell_type": "code",
      "source": [
        "a=100\n",
        "if a<=100:\n",
        "  print(a)"
      ],
      "metadata": {
        "colab": {
          "base_uri": "https://localhost:8080/"
        },
        "id": "RnYZtxJVX-sv",
        "outputId": "9b573759-8f97-4215-efbc-5307f18340f2"
      },
      "execution_count": 4,
      "outputs": [
        {
          "output_type": "stream",
          "name": "stdout",
          "text": [
            "100\n"
          ]
        }
      ]
    },
    {
      "cell_type": "code",
      "source": [
        "btn=1\n",
        "if btn==1:\n",
        "  print('아메리카노')\n",
        "elif btn==2:\n",
        "  print('카페라떼')\n",
        "elif btn==3:\n",
        "  print('아이스 카페라떼')\n",
        "else:\n",
        "  print('메뉴는 1,2,3번 중 골라주세요')\n"
      ],
      "metadata": {
        "colab": {
          "base_uri": "https://localhost:8080/"
        },
        "id": "hKPPAlWtYQvV",
        "outputId": "7017f7ae-71dc-482b-b176-02d2cfd3f2e0"
      },
      "execution_count": 6,
      "outputs": [
        {
          "output_type": "stream",
          "name": "stdout",
          "text": [
            "아메리카노\n"
          ]
        }
      ]
    },
    {
      "cell_type": "code",
      "source": [
        "for i in range(10):\n",
        "  print(i)"
      ],
      "metadata": {
        "colab": {
          "base_uri": "https://localhost:8080/"
        },
        "id": "7IGLPwFUYlKd",
        "outputId": "f0f9e5d7-55b3-49c5-d307-57fdea8fa106"
      },
      "execution_count": 7,
      "outputs": [
        {
          "output_type": "stream",
          "name": "stdout",
          "text": [
            "0\n",
            "1\n",
            "2\n",
            "3\n",
            "4\n",
            "5\n",
            "6\n",
            "7\n",
            "8\n",
            "9\n"
          ]
        }
      ]
    },
    {
      "cell_type": "code",
      "source": [
        "##반복문 복습"
      ],
      "metadata": {
        "id": "t2XbN9iZYuab"
      },
      "execution_count": 8,
      "outputs": []
    },
    {
      "cell_type": "code",
      "source": [
        "##1.0부터 9까지 출력하는 for 반복문 예제를 구현해라\n",
        "\n",
        "for i in range(10):\n",
        "  print(i)"
      ],
      "metadata": {
        "colab": {
          "base_uri": "https://localhost:8080/"
        },
        "id": "_N4K7TUrY8BK",
        "outputId": "b65a9fd9-e219-48de-ffa5-9d35f7d4b161"
      },
      "execution_count": 9,
      "outputs": [
        {
          "output_type": "stream",
          "name": "stdout",
          "text": [
            "0\n",
            "1\n",
            "2\n",
            "3\n",
            "4\n",
            "5\n",
            "6\n",
            "7\n",
            "8\n",
            "9\n"
          ]
        }
      ]
    },
    {
      "cell_type": "code",
      "source": [
        "##2.0부터 9까지 0   1   2  ........9 처럼 출력되도록 해라\n",
        "\n",
        "for i in range(10):\n",
        "  print(i,end=\"      \")"
      ],
      "metadata": {
        "colab": {
          "base_uri": "https://localhost:8080/"
        },
        "id": "HSkJvwG8ZLUr",
        "outputId": "88a83577-a5df-4bf3-9f2a-90ac73e23248"
      },
      "execution_count": 12,
      "outputs": [
        {
          "output_type": "stream",
          "name": "stdout",
          "text": [
            "0      1      2      3      4      5      6      7      8      9      "
          ]
        }
      ]
    },
    {
      "cell_type": "code",
      "source": [
        "##3.0부터 9까지 0,1,2,3,4,5,6,7,8,9 처럼 출력되도록 해라(띄어쓰기에 주의할 것)\n",
        "\n",
        "for i in range(10):\n",
        "  if i<9:\n",
        "    print(i,end=\",\")\n",
        "  else:\n",
        "    print(i,end=\"\")\n"
      ],
      "metadata": {
        "colab": {
          "base_uri": "https://localhost:8080/"
        },
        "id": "1HuzwLL-ZTfj",
        "outputId": "cce529b8-6967-4dd6-aee5-692b52a58848"
      },
      "execution_count": 16,
      "outputs": [
        {
          "output_type": "stream",
          "name": "stdout",
          "text": [
            "0,1,2,3,4,5,6,7,8,9"
          ]
        }
      ]
    },
    {
      "cell_type": "code",
      "source": [
        "##4. for 반복문을 이용하여 4부터 21까지의 홀수들의 합을 구하는 코드를 작성해라 (sum을 0이라고 초기값 설정하는 것이 중요.)\n",
        "sum=0\n",
        "for i in range(4,22):\n",
        "  if (i%2==1):\n",
        "     sum +=i\n",
        "print(sum)"
      ],
      "metadata": {
        "colab": {
          "base_uri": "https://localhost:8080/"
        },
        "id": "nIEgSxhsaCFD",
        "outputId": "657c3b0c-304b-438f-ee5f-fe7d00420b1c"
      },
      "execution_count": 23,
      "outputs": [
        {
          "output_type": "stream",
          "name": "stdout",
          "text": [
            "117\n"
          ]
        }
      ]
    },
    {
      "cell_type": "code",
      "source": [
        "##5. 1부터 100까지 짝수들만 출력하는 코드를 구현하기\n",
        "for i in range(1,101):\n",
        "  if i%2==0:\n",
        "    print(i,end=\",\")\n"
      ],
      "metadata": {
        "colab": {
          "base_uri": "https://localhost:8080/"
        },
        "id": "yIzqUbHCcK4U",
        "outputId": "5268ee3e-f3a5-474b-c91a-6ab570bce23a"
      },
      "execution_count": 27,
      "outputs": [
        {
          "output_type": "stream",
          "name": "stdout",
          "text": [
            "2,4,6,8,10,12,14,16,18,20,22,24,26,28,30,32,34,36,38,40,42,44,46,48,50,52,54,56,58,60,62,64,66,68,70,72,74,76,78,80,82,84,86,88,90,92,94,96,98,100,"
          ]
        }
      ]
    },
    {
      "cell_type": "code",
      "source": [
        "##6.for 반복문을 사용하여 구구단 전체(2단~9단)을 출력하는 코드를 구현하시오.\n",
        "for i in range(2,10):\n",
        "  print(i,'단')\n",
        "  for j in range(1,10):\n",
        "    print(i,'x',j,'=',i*j)\n",
        "print()"
      ],
      "metadata": {
        "colab": {
          "base_uri": "https://localhost:8080/"
        },
        "id": "dbGY8IOn2Tpm",
        "outputId": "cd36f171-692e-4182-87f1-074d27864a52"
      },
      "execution_count": 32,
      "outputs": [
        {
          "output_type": "stream",
          "name": "stdout",
          "text": [
            "2 단\n",
            "2 x 1 = 2\n",
            "2 x 2 = 4\n",
            "2 x 3 = 6\n",
            "2 x 4 = 8\n",
            "2 x 5 = 10\n",
            "2 x 6 = 12\n",
            "2 x 7 = 14\n",
            "2 x 8 = 16\n",
            "2 x 9 = 18\n",
            "3 단\n",
            "3 x 1 = 3\n",
            "3 x 2 = 6\n",
            "3 x 3 = 9\n",
            "3 x 4 = 12\n",
            "3 x 5 = 15\n",
            "3 x 6 = 18\n",
            "3 x 7 = 21\n",
            "3 x 8 = 24\n",
            "3 x 9 = 27\n",
            "4 단\n",
            "4 x 1 = 4\n",
            "4 x 2 = 8\n",
            "4 x 3 = 12\n",
            "4 x 4 = 16\n",
            "4 x 5 = 20\n",
            "4 x 6 = 24\n",
            "4 x 7 = 28\n",
            "4 x 8 = 32\n",
            "4 x 9 = 36\n",
            "5 단\n",
            "5 x 1 = 5\n",
            "5 x 2 = 10\n",
            "5 x 3 = 15\n",
            "5 x 4 = 20\n",
            "5 x 5 = 25\n",
            "5 x 6 = 30\n",
            "5 x 7 = 35\n",
            "5 x 8 = 40\n",
            "5 x 9 = 45\n",
            "6 단\n",
            "6 x 1 = 6\n",
            "6 x 2 = 12\n",
            "6 x 3 = 18\n",
            "6 x 4 = 24\n",
            "6 x 5 = 30\n",
            "6 x 6 = 36\n",
            "6 x 7 = 42\n",
            "6 x 8 = 48\n",
            "6 x 9 = 54\n",
            "7 단\n",
            "7 x 1 = 7\n",
            "7 x 2 = 14\n",
            "7 x 3 = 21\n",
            "7 x 4 = 28\n",
            "7 x 5 = 35\n",
            "7 x 6 = 42\n",
            "7 x 7 = 49\n",
            "7 x 8 = 56\n",
            "7 x 9 = 63\n",
            "8 단\n",
            "8 x 1 = 8\n",
            "8 x 2 = 16\n",
            "8 x 3 = 24\n",
            "8 x 4 = 32\n",
            "8 x 5 = 40\n",
            "8 x 6 = 48\n",
            "8 x 7 = 56\n",
            "8 x 8 = 64\n",
            "8 x 9 = 72\n",
            "9 단\n",
            "9 x 1 = 9\n",
            "9 x 2 = 18\n",
            "9 x 3 = 27\n",
            "9 x 4 = 36\n",
            "9 x 5 = 45\n",
            "9 x 6 = 54\n",
            "9 x 7 = 63\n",
            "9 x 8 = 72\n",
            "9 x 9 = 81\n",
            "\n"
          ]
        }
      ]
    },
    {
      "cell_type": "code",
      "source": [
        "lst=['dog','hippo','elephant','lion','tiger','alligator']\n",
        "for i in range(len(lst)):\n",
        "  print(lst[i],end='\\t')\n",
        "print('총',len(lst),'개 요소')"
      ],
      "metadata": {
        "colab": {
          "base_uri": "https://localhost:8080/"
        },
        "id": "VsJKUj5l3PkQ",
        "outputId": "65353173-3bea-4059-9002-1919e7d3f062"
      },
      "execution_count": 36,
      "outputs": [
        {
          "output_type": "stream",
          "name": "stdout",
          "text": [
            "dog\thippo\telephant\tlion\ttiger\talligator\t총 6 개 요소\n"
          ]
        }
      ]
    },
    {
      "cell_type": "code",
      "source": [
        "##리스트 요소의 값을 반복문을 사용하여 거꾸로 출력시켜라.\n",
        "lst=['dog','hippo','elephant','lion','tiger','alligator']\n",
        "for i in lst[::-1]:\n",
        "  print(i,end='\\t\\t')\n",
        "print()\n",
        " "
      ],
      "metadata": {
        "colab": {
          "base_uri": "https://localhost:8080/"
        },
        "id": "g1urSxkk6Wzo",
        "outputId": "25ff8647-ff79-4c10-e08d-8396021f72ae"
      },
      "execution_count": 41,
      "outputs": [
        {
          "output_type": "stream",
          "name": "stdout",
          "text": [
            "alligator\t\ttiger\t\tlion\t\telephant\t\thippo\t\tdog\t\t\n"
          ]
        }
      ]
    },
    {
      "cell_type": "code",
      "source": [
        ""
      ],
      "metadata": {
        "id": "n_EcLzp-7Lib"
      },
      "execution_count": null,
      "outputs": []
    }
  ]
}