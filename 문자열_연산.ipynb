{
  "nbformat": 4,
  "nbformat_minor": 0,
  "metadata": {
    "colab": {
      "name": "문자열_연산.ipynb",
      "provenance": [],
      "authorship_tag": "ABX9TyPetLf4lNvPyFMTRDgB0HAU",
      "include_colab_link": true
    },
    "kernelspec": {
      "name": "python3",
      "display_name": "Python 3"
    },
    "language_info": {
      "name": "python"
    }
  },
  "cells": [
    {
      "cell_type": "markdown",
      "metadata": {
        "id": "view-in-github",
        "colab_type": "text"
      },
      "source": [
        "<a href=\"https://colab.research.google.com/github/jennyohyj/jennyohyj.github.io/blob/pandas%2Fnumpy-practice/%EB%AC%B8%EC%9E%90%EC%97%B4_%EC%97%B0%EC%82%B0.ipynb\" target=\"_parent\"><img src=\"https://colab.research.google.com/assets/colab-badge.svg\" alt=\"Open In Colab\"/></a>"
      ]
    },
    {
      "cell_type": "code",
      "execution_count": 1,
      "metadata": {
        "id": "v_6IVCs1sjvH"
      },
      "outputs": [],
      "source": [
        "import pandas as pd\n",
        "import numpy as np"
      ]
    },
    {
      "cell_type": "code",
      "source": [
        "name_tuple=['Suan lee','Steven Jobs','Larry Page','Elon Musk',None,'Bill Gates','Mark zuckerberg','Jeff bezos']\n",
        "names=pd.Series(name_tuple)\n",
        "names"
      ],
      "metadata": {
        "colab": {
          "base_uri": "https://localhost:8080/"
        },
        "id": "T6GfAtMAzFL3",
        "outputId": "b39583ee-496d-43de-e026-39f90ea489bb"
      },
      "execution_count": 4,
      "outputs": [
        {
          "output_type": "execute_result",
          "data": {
            "text/plain": [
              "0           Suan lee\n",
              "1        Steven Jobs\n",
              "2         Larry Page\n",
              "3          Elon Musk\n",
              "4               None\n",
              "5         Bill Gates\n",
              "6    Mark zuckerberg\n",
              "7         Jeff bezos\n",
              "dtype: object"
            ]
          },
          "metadata": {},
          "execution_count": 4
        }
      ]
    },
    {
      "cell_type": "code",
      "source": [
        "names.str.lower()"
      ],
      "metadata": {
        "colab": {
          "base_uri": "https://localhost:8080/"
        },
        "id": "w1Nyu4trzcPM",
        "outputId": "5d5d6816-13c3-4ce0-89c0-c948db0c08d6"
      },
      "execution_count": 5,
      "outputs": [
        {
          "output_type": "execute_result",
          "data": {
            "text/plain": [
              "0           suan lee\n",
              "1        steven jobs\n",
              "2         larry page\n",
              "3          elon musk\n",
              "4               None\n",
              "5         bill gates\n",
              "6    mark zuckerberg\n",
              "7         jeff bezos\n",
              "dtype: object"
            ]
          },
          "metadata": {},
          "execution_count": 5
        }
      ]
    },
    {
      "cell_type": "code",
      "source": [
        "names.str.len()"
      ],
      "metadata": {
        "colab": {
          "base_uri": "https://localhost:8080/"
        },
        "id": "YDVeRiHTzq2u",
        "outputId": "61b75b3e-9270-4290-fba8-006927ecbb5f"
      },
      "execution_count": 6,
      "outputs": [
        {
          "output_type": "execute_result",
          "data": {
            "text/plain": [
              "0     8.0\n",
              "1    11.0\n",
              "2    10.0\n",
              "3     9.0\n",
              "4     NaN\n",
              "5    10.0\n",
              "6    15.0\n",
              "7    10.0\n",
              "dtype: float64"
            ]
          },
          "metadata": {},
          "execution_count": 6
        }
      ]
    },
    {
      "cell_type": "code",
      "source": [
        "names.str.split()"
      ],
      "metadata": {
        "colab": {
          "base_uri": "https://localhost:8080/"
        },
        "id": "Vdhmd-O7zx1O",
        "outputId": "ab91162e-05cb-414e-b8b8-e8832cabc349"
      },
      "execution_count": 7,
      "outputs": [
        {
          "output_type": "execute_result",
          "data": {
            "text/plain": [
              "0           [Suan, lee]\n",
              "1        [Steven, Jobs]\n",
              "2         [Larry, Page]\n",
              "3          [Elon, Musk]\n",
              "4                  None\n",
              "5         [Bill, Gates]\n",
              "6    [Mark, zuckerberg]\n",
              "7         [Jeff, bezos]\n",
              "dtype: object"
            ]
          },
          "metadata": {},
          "execution_count": 7
        }
      ]
    },
    {
      "cell_type": "code",
      "source": [
        "names.str[0:4]"
      ],
      "metadata": {
        "colab": {
          "base_uri": "https://localhost:8080/"
        },
        "id": "7QxlGyJTz0rE",
        "outputId": "f5e8c16f-50ce-44ca-8992-205c5e73707a"
      },
      "execution_count": 8,
      "outputs": [
        {
          "output_type": "execute_result",
          "data": {
            "text/plain": [
              "0    Suan\n",
              "1    Stev\n",
              "2    Larr\n",
              "3    Elon\n",
              "4    None\n",
              "5    Bill\n",
              "6    Mark\n",
              "7    Jeff\n",
              "dtype: object"
            ]
          },
          "metadata": {},
          "execution_count": 8
        }
      ]
    },
    {
      "cell_type": "code",
      "source": [
        "names.str.split().str.get(-1)"
      ],
      "metadata": {
        "colab": {
          "base_uri": "https://localhost:8080/"
        },
        "id": "ccAbLEYnz_nX",
        "outputId": "0db4fdf5-071e-440e-f734-698c0c5758e2"
      },
      "execution_count": 9,
      "outputs": [
        {
          "output_type": "execute_result",
          "data": {
            "text/plain": [
              "0           lee\n",
              "1          Jobs\n",
              "2          Page\n",
              "3          Musk\n",
              "4          None\n",
              "5         Gates\n",
              "6    zuckerberg\n",
              "7         bezos\n",
              "dtype: object"
            ]
          },
          "metadata": {},
          "execution_count": 9
        }
      ]
    },
    {
      "cell_type": "code",
      "source": [
        "names.str.repeat(2)"
      ],
      "metadata": {
        "colab": {
          "base_uri": "https://localhost:8080/"
        },
        "id": "IrXOunap0Ejq",
        "outputId": "74fdc8ae-a5ac-42ad-e195-41436595f643"
      },
      "execution_count": 10,
      "outputs": [
        {
          "output_type": "execute_result",
          "data": {
            "text/plain": [
              "0                  Suan leeSuan lee\n",
              "1            Steven JobsSteven Jobs\n",
              "2              Larry PageLarry Page\n",
              "3                Elon MuskElon Musk\n",
              "4                              None\n",
              "5              Bill GatesBill Gates\n",
              "6    Mark zuckerbergMark zuckerberg\n",
              "7              Jeff bezosJeff bezos\n",
              "dtype: object"
            ]
          },
          "metadata": {},
          "execution_count": 10
        }
      ]
    },
    {
      "cell_type": "code",
      "source": [
        "names.str.join('*')"
      ],
      "metadata": {
        "colab": {
          "base_uri": "https://localhost:8080/"
        },
        "id": "rkvrWnDl1lvp",
        "outputId": "71d38c1a-6749-47b1-cff6-a6617d70cbc5"
      },
      "execution_count": 11,
      "outputs": [
        {
          "output_type": "execute_result",
          "data": {
            "text/plain": [
              "0                  S*u*a*n* *l*e*e\n",
              "1            S*t*e*v*e*n* *J*o*b*s\n",
              "2              L*a*r*r*y* *P*a*g*e\n",
              "3                E*l*o*n* *M*u*s*k\n",
              "4                             None\n",
              "5              B*i*l*l* *G*a*t*e*s\n",
              "6    M*a*r*k* *z*u*c*k*e*r*b*e*r*g\n",
              "7              J*e*f*f* *b*e*z*o*s\n",
              "dtype: object"
            ]
          },
          "metadata": {},
          "execution_count": 11
        }
      ]
    },
    {
      "cell_type": "code",
      "source": [
        "names.str.match('([A-Za-z]+)')"
      ],
      "metadata": {
        "colab": {
          "base_uri": "https://localhost:8080/"
        },
        "id": "tuvrQL_L1rXW",
        "outputId": "018b429a-c08b-44ea-a1a6-978333270bc1"
      },
      "execution_count": 13,
      "outputs": [
        {
          "output_type": "execute_result",
          "data": {
            "text/plain": [
              "0    True\n",
              "1    True\n",
              "2    True\n",
              "3    True\n",
              "4    None\n",
              "5    True\n",
              "6    True\n",
              "7    True\n",
              "dtype: object"
            ]
          },
          "metadata": {},
          "execution_count": 13
        }
      ]
    },
    {
      "cell_type": "code",
      "source": [
        "names.str.findall('([A-Za-z]+)')"
      ],
      "metadata": {
        "colab": {
          "base_uri": "https://localhost:8080/"
        },
        "id": "xy61MRQG10fH",
        "outputId": "fe76d18f-c7f8-4d2e-91bd-4c62484892ac"
      },
      "execution_count": 15,
      "outputs": [
        {
          "output_type": "execute_result",
          "data": {
            "text/plain": [
              "0           [Suan, lee]\n",
              "1        [Steven, Jobs]\n",
              "2         [Larry, Page]\n",
              "3          [Elon, Musk]\n",
              "4                  None\n",
              "5         [Bill, Gates]\n",
              "6    [Mark, zuckerberg]\n",
              "7         [Jeff, bezos]\n",
              "dtype: object"
            ]
          },
          "metadata": {},
          "execution_count": 15
        }
      ]
    },
    {
      "cell_type": "code",
      "source": [
        ""
      ],
      "metadata": {
        "id": "RE7uxPw915O4"
      },
      "execution_count": null,
      "outputs": []
    }
  ]
}