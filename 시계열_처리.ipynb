{
  "nbformat": 4,
  "nbformat_minor": 0,
  "metadata": {
    "colab": {
      "name": "시계열 처리.ipynb",
      "provenance": [],
      "authorship_tag": "ABX9TyOfkLJ5FsCKAWajpdv02wMB",
      "include_colab_link": true
    },
    "kernelspec": {
      "name": "python3",
      "display_name": "Python 3"
    },
    "language_info": {
      "name": "python"
    }
  },
  "cells": [
    {
      "cell_type": "markdown",
      "metadata": {
        "id": "view-in-github",
        "colab_type": "text"
      },
      "source": [
        "<a href=\"https://colab.research.google.com/github/jennyohyj/jennyohyj.github.io/blob/pandas%2Fnumpy-practice/%EC%8B%9C%EA%B3%84%EC%97%B4_%EC%B2%98%EB%A6%AC.ipynb\" target=\"_parent\"><img src=\"https://colab.research.google.com/assets/colab-badge.svg\" alt=\"Open In Colab\"/></a>"
      ]
    },
    {
      "cell_type": "code",
      "execution_count": 5,
      "metadata": {
        "id": "EZRM2ep0HeZu"
      },
      "outputs": [],
      "source": [
        "import numpy as np\n",
        "import pandas as pd"
      ]
    },
    {
      "cell_type": "code",
      "source": [
        "idx=pd.DatetimeIndex(['2019-01-01','2020-01-01','2020-02-01','2020-02-02','2020-03-01'])\n",
        "s=pd.Series([0,1,2,3,4],index=idx)\n",
        "s"
      ],
      "metadata": {
        "colab": {
          "base_uri": "https://localhost:8080/"
        },
        "id": "TtTfmg-RH1Ai",
        "outputId": "ea35fdd6-b2ea-4676-c1a7-9bc5b1c2cdde"
      },
      "execution_count": 3,
      "outputs": [
        {
          "output_type": "execute_result",
          "data": {
            "text/plain": [
              "2019-01-01    0\n",
              "2020-01-01    1\n",
              "2020-02-01    2\n",
              "2020-02-02    3\n",
              "2020-03-01    4\n",
              "dtype: int64"
            ]
          },
          "metadata": {},
          "execution_count": 3
        }
      ]
    },
    {
      "cell_type": "code",
      "source": [
        "s['2020-01-01':] ##2020-01-01 이후만 출력"
      ],
      "metadata": {
        "colab": {
          "base_uri": "https://localhost:8080/"
        },
        "id": "mSuY0QgnILf_",
        "outputId": "e8e5b294-b458-4d52-a93b-df2f64315be4"
      },
      "execution_count": 4,
      "outputs": [
        {
          "output_type": "execute_result",
          "data": {
            "text/plain": [
              "2020-01-01    1\n",
              "2020-02-01    2\n",
              "2020-02-02    3\n",
              "2020-03-01    4\n",
              "dtype: int64"
            ]
          },
          "metadata": {},
          "execution_count": 4
        }
      ]
    },
    {
      "cell_type": "code",
      "source": [
        "s[:'2020-01-01']"
      ],
      "metadata": {
        "colab": {
          "base_uri": "https://localhost:8080/"
        },
        "id": "uz_ehhRYIXCx",
        "outputId": "be0c82da-e95d-4360-c620-eec6f129d9fc"
      },
      "execution_count": 5,
      "outputs": [
        {
          "output_type": "execute_result",
          "data": {
            "text/plain": [
              "2019-01-01    0\n",
              "2020-01-01    1\n",
              "dtype: int64"
            ]
          },
          "metadata": {},
          "execution_count": 5
        }
      ]
    },
    {
      "cell_type": "code",
      "source": [
        "s['2019']"
      ],
      "metadata": {
        "colab": {
          "base_uri": "https://localhost:8080/"
        },
        "id": "WJAVZEy8IfEg",
        "outputId": "5c8da54e-de37-4620-b5f5-843d86f33a72"
      },
      "execution_count": 6,
      "outputs": [
        {
          "output_type": "execute_result",
          "data": {
            "text/plain": [
              "2019-01-01    0\n",
              "dtype: int64"
            ]
          },
          "metadata": {},
          "execution_count": 6
        }
      ]
    },
    {
      "cell_type": "code",
      "source": [
        "from datetime import datetime\n",
        "dates=pd.to_datetime(['12-12-2019',datetime(2020,1,1),'2nd of Feb,2020','2020-Mar-4','20200701'])\n",
        "dates"
      ],
      "metadata": {
        "colab": {
          "base_uri": "https://localhost:8080/"
        },
        "id": "skQD86SWIg9_",
        "outputId": "d6ac4679-e687-4162-f221-907c097d1e70"
      },
      "execution_count": 8,
      "outputs": [
        {
          "output_type": "execute_result",
          "data": {
            "text/plain": [
              "DatetimeIndex(['2019-12-12', '2020-01-01', '2020-02-02', '2020-03-04',\n",
              "               '2020-07-01'],\n",
              "              dtype='datetime64[ns]', freq=None)"
            ]
          },
          "metadata": {},
          "execution_count": 8
        }
      ]
    },
    {
      "cell_type": "code",
      "source": [
        "dates.to_period('D')"
      ],
      "metadata": {
        "colab": {
          "base_uri": "https://localhost:8080/"
        },
        "id": "5SMAngpaKrr4",
        "outputId": "7aad0036-7e4b-4404-c4ab-6514234405d3"
      },
      "execution_count": 9,
      "outputs": [
        {
          "output_type": "execute_result",
          "data": {
            "text/plain": [
              "PeriodIndex(['2019-12-12', '2020-01-01', '2020-02-02', '2020-03-04',\n",
              "             '2020-07-01'],\n",
              "            dtype='period[D]')"
            ]
          },
          "metadata": {},
          "execution_count": 9
        }
      ]
    },
    {
      "cell_type": "code",
      "source": [
        "dates-dates[0]"
      ],
      "metadata": {
        "colab": {
          "base_uri": "https://localhost:8080/"
        },
        "id": "9yvmvjowKwLX",
        "outputId": "e2e24ab7-7e95-428c-8dec-b6097c93e9b4"
      },
      "execution_count": 10,
      "outputs": [
        {
          "output_type": "execute_result",
          "data": {
            "text/plain": [
              "TimedeltaIndex(['0 days', '20 days', '52 days', '83 days', '202 days'], dtype='timedelta64[ns]', freq=None)"
            ]
          },
          "metadata": {},
          "execution_count": 10
        }
      ]
    },
    {
      "cell_type": "code",
      "source": [
        "pd.date_range('2020-01-01','2020-07-01')"
      ],
      "metadata": {
        "colab": {
          "base_uri": "https://localhost:8080/"
        },
        "id": "1lCFYCxYK4eb",
        "outputId": "20b36cb2-62d6-43c4-eb84-f046122ad3d2"
      },
      "execution_count": 11,
      "outputs": [
        {
          "output_type": "execute_result",
          "data": {
            "text/plain": [
              "DatetimeIndex(['2020-01-01', '2020-01-02', '2020-01-03', '2020-01-04',\n",
              "               '2020-01-05', '2020-01-06', '2020-01-07', '2020-01-08',\n",
              "               '2020-01-09', '2020-01-10',\n",
              "               ...\n",
              "               '2020-06-22', '2020-06-23', '2020-06-24', '2020-06-25',\n",
              "               '2020-06-26', '2020-06-27', '2020-06-28', '2020-06-29',\n",
              "               '2020-06-30', '2020-07-01'],\n",
              "              dtype='datetime64[ns]', length=183, freq='D')"
            ]
          },
          "metadata": {},
          "execution_count": 11
        }
      ]
    },
    {
      "cell_type": "code",
      "source": [
        "pd.date_range('2020-01-01',periods=7)"
      ],
      "metadata": {
        "colab": {
          "base_uri": "https://localhost:8080/"
        },
        "id": "LKdw4C_uLFQr",
        "outputId": "ed10f29d-2231-423a-f31a-ccf27dbd72fc"
      },
      "execution_count": 13,
      "outputs": [
        {
          "output_type": "execute_result",
          "data": {
            "text/plain": [
              "DatetimeIndex(['2020-01-01', '2020-01-02', '2020-01-03', '2020-01-04',\n",
              "               '2020-01-05', '2020-01-06', '2020-01-07'],\n",
              "              dtype='datetime64[ns]', freq='D')"
            ]
          },
          "metadata": {},
          "execution_count": 13
        }
      ]
    },
    {
      "cell_type": "code",
      "source": [
        "pd.date_range('2020-01-01',periods=7,freq='M')"
      ],
      "metadata": {
        "colab": {
          "base_uri": "https://localhost:8080/"
        },
        "id": "Gpp9jo2rLMli",
        "outputId": "20c1782e-3101-4920-e529-3931d44ae77d"
      },
      "execution_count": 14,
      "outputs": [
        {
          "output_type": "execute_result",
          "data": {
            "text/plain": [
              "DatetimeIndex(['2020-01-31', '2020-02-29', '2020-03-31', '2020-04-30',\n",
              "               '2020-05-31', '2020-06-30', '2020-07-31'],\n",
              "              dtype='datetime64[ns]', freq='M')"
            ]
          },
          "metadata": {},
          "execution_count": 14
        }
      ]
    },
    {
      "cell_type": "code",
      "source": [
        "pd.date_range('2020-01-01',periods=7,freq='H')"
      ],
      "metadata": {
        "colab": {
          "base_uri": "https://localhost:8080/"
        },
        "id": "f6nBoM4WLS5f",
        "outputId": "378be4b2-14fa-421e-b58b-b0760c1a561f"
      },
      "execution_count": 15,
      "outputs": [
        {
          "output_type": "execute_result",
          "data": {
            "text/plain": [
              "DatetimeIndex(['2020-01-01 00:00:00', '2020-01-01 01:00:00',\n",
              "               '2020-01-01 02:00:00', '2020-01-01 03:00:00',\n",
              "               '2020-01-01 04:00:00', '2020-01-01 05:00:00',\n",
              "               '2020-01-01 06:00:00'],\n",
              "              dtype='datetime64[ns]', freq='H')"
            ]
          },
          "metadata": {},
          "execution_count": 15
        }
      ]
    },
    {
      "cell_type": "code",
      "source": [
        "idx=pd.to_datetime(['2020-01-01 12:00:00','2020-01-02 00:00:00']+[None])\n",
        "idx"
      ],
      "metadata": {
        "colab": {
          "base_uri": "https://localhost:8080/"
        },
        "id": "vHIX1q5YLf4Z",
        "outputId": "d2e54fe8-daad-4c27-dcbc-98efbec4dbf3"
      },
      "execution_count": 16,
      "outputs": [
        {
          "output_type": "execute_result",
          "data": {
            "text/plain": [
              "DatetimeIndex(['2020-01-01 12:00:00', '2020-01-02 00:00:00', 'NaT'], dtype='datetime64[ns]', freq=None)"
            ]
          },
          "metadata": {},
          "execution_count": 16
        }
      ]
    },
    {
      "cell_type": "code",
      "source": [
        "idx[2]"
      ],
      "metadata": {
        "colab": {
          "base_uri": "https://localhost:8080/"
        },
        "id": "F6yDAAXwMSr3",
        "outputId": "23999e5d-36e8-4078-de71-c55b2a30e083"
      },
      "execution_count": 17,
      "outputs": [
        {
          "output_type": "execute_result",
          "data": {
            "text/plain": [
              "NaT"
            ]
          },
          "metadata": {},
          "execution_count": 17
        }
      ]
    },
    {
      "cell_type": "code",
      "source": [
        "pd.isnull(idx)"
      ],
      "metadata": {
        "colab": {
          "base_uri": "https://localhost:8080/"
        },
        "id": "ICUyAhCKMZni",
        "outputId": "807d98f4-0347-4138-fc90-02441559f82b"
      },
      "execution_count": 18,
      "outputs": [
        {
          "output_type": "execute_result",
          "data": {
            "text/plain": [
              "array([False, False,  True])"
            ]
          },
          "metadata": {},
          "execution_count": 18
        }
      ]
    },
    {
      "cell_type": "code",
      "source": [
        "dates=[datetime(2020,1,1),datetime(2020,1,4),datetime(2020,1,7),datetime(2020,1,10),datetime(2020,1,11),datetime(2020,1,15)]\n",
        "dates"
      ],
      "metadata": {
        "colab": {
          "base_uri": "https://localhost:8080/"
        },
        "id": "Kneqb6PVMeXZ",
        "outputId": "425e5adb-8cae-4a27-8cda-882eda081dfd"
      },
      "execution_count": 19,
      "outputs": [
        {
          "output_type": "execute_result",
          "data": {
            "text/plain": [
              "[datetime.datetime(2020, 1, 1, 0, 0),\n",
              " datetime.datetime(2020, 1, 4, 0, 0),\n",
              " datetime.datetime(2020, 1, 7, 0, 0),\n",
              " datetime.datetime(2020, 1, 10, 0, 0),\n",
              " datetime.datetime(2020, 1, 11, 0, 0),\n",
              " datetime.datetime(2020, 1, 15, 0, 0)]"
            ]
          },
          "metadata": {},
          "execution_count": 19
        }
      ]
    },
    {
      "cell_type": "code",
      "source": [
        "ts=pd.Series(np.random.randn(6),index=dates)\n",
        "ts"
      ],
      "metadata": {
        "colab": {
          "base_uri": "https://localhost:8080/"
        },
        "id": "SxQGpk-kMvhY",
        "outputId": "6b87df73-1697-4cf0-f92d-72e9175b5dca"
      },
      "execution_count": 21,
      "outputs": [
        {
          "output_type": "execute_result",
          "data": {
            "text/plain": [
              "2020-01-01    1.593700\n",
              "2020-01-04    0.021589\n",
              "2020-01-07   -1.171284\n",
              "2020-01-10   -0.486540\n",
              "2020-01-11   -0.660612\n",
              "2020-01-15    1.044251\n",
              "dtype: float64"
            ]
          },
          "metadata": {},
          "execution_count": 21
        }
      ]
    },
    {
      "cell_type": "code",
      "source": [
        "ts.index"
      ],
      "metadata": {
        "colab": {
          "base_uri": "https://localhost:8080/"
        },
        "id": "3yS2su6FM3jj",
        "outputId": "c472af56-8fa7-405c-9e58-87806635d496"
      },
      "execution_count": 22,
      "outputs": [
        {
          "output_type": "execute_result",
          "data": {
            "text/plain": [
              "DatetimeIndex(['2020-01-01', '2020-01-04', '2020-01-07', '2020-01-10',\n",
              "               '2020-01-11', '2020-01-15'],\n",
              "              dtype='datetime64[ns]', freq=None)"
            ]
          },
          "metadata": {},
          "execution_count": 22
        }
      ]
    },
    {
      "cell_type": "code",
      "source": [
        "ts.index[0]"
      ],
      "metadata": {
        "colab": {
          "base_uri": "https://localhost:8080/"
        },
        "id": "sOaF1asoNAGq",
        "outputId": "ad734232-c54e-4506-d321-aa89ad3287cc"
      },
      "execution_count": 23,
      "outputs": [
        {
          "output_type": "execute_result",
          "data": {
            "text/plain": [
              "Timestamp('2020-01-01 00:00:00')"
            ]
          },
          "metadata": {},
          "execution_count": 23
        }
      ]
    },
    {
      "cell_type": "code",
      "source": [
        "ts[ts.index[2]]"
      ],
      "metadata": {
        "colab": {
          "base_uri": "https://localhost:8080/"
        },
        "id": "8zLNlK4GNBq5",
        "outputId": "2254aaf2-e636-4304-90b0-4e0a7d415da3"
      },
      "execution_count": 24,
      "outputs": [
        {
          "output_type": "execute_result",
          "data": {
            "text/plain": [
              "-1.1712835736868985"
            ]
          },
          "metadata": {},
          "execution_count": 24
        }
      ]
    },
    {
      "cell_type": "code",
      "source": [
        "ts['20200104']"
      ],
      "metadata": {
        "colab": {
          "base_uri": "https://localhost:8080/"
        },
        "id": "Wohe3IHmNGS-",
        "outputId": "f5aee36e-ba58-4c52-cc83-524837a4b4f2"
      },
      "execution_count": 25,
      "outputs": [
        {
          "output_type": "execute_result",
          "data": {
            "text/plain": [
              "0.02158892646530092"
            ]
          },
          "metadata": {},
          "execution_count": 25
        }
      ]
    },
    {
      "cell_type": "code",
      "source": [
        "ts['1/4/2020']"
      ],
      "metadata": {
        "colab": {
          "base_uri": "https://localhost:8080/"
        },
        "id": "ZQoam8n9NJq1",
        "outputId": "d07b4827-7982-4ee8-840a-2cd094b2f228"
      },
      "execution_count": 26,
      "outputs": [
        {
          "output_type": "execute_result",
          "data": {
            "text/plain": [
              "0.02158892646530092"
            ]
          },
          "metadata": {},
          "execution_count": 26
        }
      ]
    },
    {
      "cell_type": "code",
      "source": [
        "ts=pd.Series(np.random.randn(1000),\n",
        "             index=pd.date_range('2017-10-01',periods=1000))\n",
        "ts"
      ],
      "metadata": {
        "colab": {
          "base_uri": "https://localhost:8080/"
        },
        "id": "MA61_UMmNMze",
        "outputId": "9e4af324-e01c-452a-ee80-66eb5304402e"
      },
      "execution_count": 27,
      "outputs": [
        {
          "output_type": "execute_result",
          "data": {
            "text/plain": [
              "2017-10-01    2.988854\n",
              "2017-10-02   -0.226497\n",
              "2017-10-03    1.085550\n",
              "2017-10-04    1.006253\n",
              "2017-10-05   -2.163267\n",
              "                ...   \n",
              "2020-06-22   -0.498420\n",
              "2020-06-23    1.461679\n",
              "2020-06-24   -0.315752\n",
              "2020-06-25   -0.507490\n",
              "2020-06-26   -0.146186\n",
              "Freq: D, Length: 1000, dtype: float64"
            ]
          },
          "metadata": {},
          "execution_count": 27
        }
      ]
    },
    {
      "cell_type": "code",
      "source": [
        "ts['2020']"
      ],
      "metadata": {
        "colab": {
          "base_uri": "https://localhost:8080/"
        },
        "id": "4-_w9UxVNYFT",
        "outputId": "780225d9-7198-4418-9d5f-d870414076ac"
      },
      "execution_count": 28,
      "outputs": [
        {
          "output_type": "execute_result",
          "data": {
            "text/plain": [
              "2020-01-01   -1.968376\n",
              "2020-01-02    2.279150\n",
              "2020-01-03    1.304166\n",
              "2020-01-04   -0.106621\n",
              "2020-01-05   -0.453022\n",
              "                ...   \n",
              "2020-06-22   -0.498420\n",
              "2020-06-23    1.461679\n",
              "2020-06-24   -0.315752\n",
              "2020-06-25   -0.507490\n",
              "2020-06-26   -0.146186\n",
              "Freq: D, Length: 178, dtype: float64"
            ]
          },
          "metadata": {},
          "execution_count": 28
        }
      ]
    },
    {
      "cell_type": "code",
      "source": [
        "ts['2020-06']"
      ],
      "metadata": {
        "colab": {
          "base_uri": "https://localhost:8080/"
        },
        "id": "XiF3SdbYNc6G",
        "outputId": "2362b390-1023-4ab8-e1aa-e5e3628be625"
      },
      "execution_count": 29,
      "outputs": [
        {
          "output_type": "execute_result",
          "data": {
            "text/plain": [
              "2020-06-01    0.722128\n",
              "2020-06-02   -1.431481\n",
              "2020-06-03    0.390892\n",
              "2020-06-04    0.538194\n",
              "2020-06-05    0.317564\n",
              "2020-06-06    0.280222\n",
              "2020-06-07    0.956571\n",
              "2020-06-08    0.617775\n",
              "2020-06-09   -0.905241\n",
              "2020-06-10   -0.225042\n",
              "2020-06-11    0.617484\n",
              "2020-06-12   -0.815270\n",
              "2020-06-13    1.879385\n",
              "2020-06-14   -2.426774\n",
              "2020-06-15    0.638985\n",
              "2020-06-16   -0.624090\n",
              "2020-06-17    0.205065\n",
              "2020-06-18    1.726914\n",
              "2020-06-19    1.745708\n",
              "2020-06-20   -1.738704\n",
              "2020-06-21   -0.379476\n",
              "2020-06-22   -0.498420\n",
              "2020-06-23    1.461679\n",
              "2020-06-24   -0.315752\n",
              "2020-06-25   -0.507490\n",
              "2020-06-26   -0.146186\n",
              "Freq: D, dtype: float64"
            ]
          },
          "metadata": {},
          "execution_count": 29
        }
      ]
    },
    {
      "cell_type": "code",
      "source": [
        "ts[datetime(2020,6,20):]"
      ],
      "metadata": {
        "colab": {
          "base_uri": "https://localhost:8080/"
        },
        "id": "R9wzbqjVNicm",
        "outputId": "aaab6667-d5dd-44fb-8417-e1d7f72fc367"
      },
      "execution_count": 30,
      "outputs": [
        {
          "output_type": "execute_result",
          "data": {
            "text/plain": [
              "2020-06-20   -1.738704\n",
              "2020-06-21   -0.379476\n",
              "2020-06-22   -0.498420\n",
              "2020-06-23    1.461679\n",
              "2020-06-24   -0.315752\n",
              "2020-06-25   -0.507490\n",
              "2020-06-26   -0.146186\n",
              "Freq: D, dtype: float64"
            ]
          },
          "metadata": {},
          "execution_count": 30
        }
      ]
    },
    {
      "cell_type": "code",
      "source": [
        "ts['2020-06-10':'2020-06-20']"
      ],
      "metadata": {
        "colab": {
          "base_uri": "https://localhost:8080/"
        },
        "id": "opTO7p92NpLj",
        "outputId": "03811b24-d557-4b1b-e656-96ea2c2d41c5"
      },
      "execution_count": 31,
      "outputs": [
        {
          "output_type": "execute_result",
          "data": {
            "text/plain": [
              "2020-06-10   -0.225042\n",
              "2020-06-11    0.617484\n",
              "2020-06-12   -0.815270\n",
              "2020-06-13    1.879385\n",
              "2020-06-14   -2.426774\n",
              "2020-06-15    0.638985\n",
              "2020-06-16   -0.624090\n",
              "2020-06-17    0.205065\n",
              "2020-06-18    1.726914\n",
              "2020-06-19    1.745708\n",
              "2020-06-20   -1.738704\n",
              "Freq: D, dtype: float64"
            ]
          },
          "metadata": {},
          "execution_count": 31
        }
      ]
    },
    {
      "cell_type": "code",
      "source": [
        "tdf=pd.DataFrame(np.random.randn(1000,4),\n",
        "                 index=pd.date_range('2017-10-01',periods=1000),\n",
        "                 columns=['A','B','C','D'])\n",
        "tdf"
      ],
      "metadata": {
        "colab": {
          "base_uri": "https://localhost:8080/",
          "height": 423
        },
        "id": "GgAT62U8Nu3t",
        "outputId": "d0680946-cf40-4e82-98fb-d83b600dd892"
      },
      "execution_count": 32,
      "outputs": [
        {
          "output_type": "execute_result",
          "data": {
            "text/html": [
              "\n",
              "  <div id=\"df-a86de31e-0791-4cf8-81bf-7ae424c8a538\">\n",
              "    <div class=\"colab-df-container\">\n",
              "      <div>\n",
              "<style scoped>\n",
              "    .dataframe tbody tr th:only-of-type {\n",
              "        vertical-align: middle;\n",
              "    }\n",
              "\n",
              "    .dataframe tbody tr th {\n",
              "        vertical-align: top;\n",
              "    }\n",
              "\n",
              "    .dataframe thead th {\n",
              "        text-align: right;\n",
              "    }\n",
              "</style>\n",
              "<table border=\"1\" class=\"dataframe\">\n",
              "  <thead>\n",
              "    <tr style=\"text-align: right;\">\n",
              "      <th></th>\n",
              "      <th>A</th>\n",
              "      <th>B</th>\n",
              "      <th>C</th>\n",
              "      <th>D</th>\n",
              "    </tr>\n",
              "  </thead>\n",
              "  <tbody>\n",
              "    <tr>\n",
              "      <th>2017-10-01</th>\n",
              "      <td>0.625941</td>\n",
              "      <td>0.758261</td>\n",
              "      <td>0.454917</td>\n",
              "      <td>-0.349797</td>\n",
              "    </tr>\n",
              "    <tr>\n",
              "      <th>2017-10-02</th>\n",
              "      <td>0.746684</td>\n",
              "      <td>0.409522</td>\n",
              "      <td>-1.742337</td>\n",
              "      <td>-0.979988</td>\n",
              "    </tr>\n",
              "    <tr>\n",
              "      <th>2017-10-03</th>\n",
              "      <td>2.958377</td>\n",
              "      <td>0.302711</td>\n",
              "      <td>1.622812</td>\n",
              "      <td>-1.622066</td>\n",
              "    </tr>\n",
              "    <tr>\n",
              "      <th>2017-10-04</th>\n",
              "      <td>-0.609452</td>\n",
              "      <td>-0.635213</td>\n",
              "      <td>0.158442</td>\n",
              "      <td>1.368983</td>\n",
              "    </tr>\n",
              "    <tr>\n",
              "      <th>2017-10-05</th>\n",
              "      <td>-0.744300</td>\n",
              "      <td>-0.114632</td>\n",
              "      <td>-0.086261</td>\n",
              "      <td>-0.447918</td>\n",
              "    </tr>\n",
              "    <tr>\n",
              "      <th>...</th>\n",
              "      <td>...</td>\n",
              "      <td>...</td>\n",
              "      <td>...</td>\n",
              "      <td>...</td>\n",
              "    </tr>\n",
              "    <tr>\n",
              "      <th>2020-06-22</th>\n",
              "      <td>0.432758</td>\n",
              "      <td>-0.823466</td>\n",
              "      <td>-1.158982</td>\n",
              "      <td>-1.174304</td>\n",
              "    </tr>\n",
              "    <tr>\n",
              "      <th>2020-06-23</th>\n",
              "      <td>0.158720</td>\n",
              "      <td>-1.571857</td>\n",
              "      <td>1.058635</td>\n",
              "      <td>0.440606</td>\n",
              "    </tr>\n",
              "    <tr>\n",
              "      <th>2020-06-24</th>\n",
              "      <td>-0.760157</td>\n",
              "      <td>-0.444708</td>\n",
              "      <td>1.479186</td>\n",
              "      <td>-0.089963</td>\n",
              "    </tr>\n",
              "    <tr>\n",
              "      <th>2020-06-25</th>\n",
              "      <td>-1.875664</td>\n",
              "      <td>0.025999</td>\n",
              "      <td>-0.078808</td>\n",
              "      <td>-0.464825</td>\n",
              "    </tr>\n",
              "    <tr>\n",
              "      <th>2020-06-26</th>\n",
              "      <td>-0.614394</td>\n",
              "      <td>0.015708</td>\n",
              "      <td>1.153898</td>\n",
              "      <td>0.679604</td>\n",
              "    </tr>\n",
              "  </tbody>\n",
              "</table>\n",
              "<p>1000 rows × 4 columns</p>\n",
              "</div>\n",
              "      <button class=\"colab-df-convert\" onclick=\"convertToInteractive('df-a86de31e-0791-4cf8-81bf-7ae424c8a538')\"\n",
              "              title=\"Convert this dataframe to an interactive table.\"\n",
              "              style=\"display:none;\">\n",
              "        \n",
              "  <svg xmlns=\"http://www.w3.org/2000/svg\" height=\"24px\"viewBox=\"0 0 24 24\"\n",
              "       width=\"24px\">\n",
              "    <path d=\"M0 0h24v24H0V0z\" fill=\"none\"/>\n",
              "    <path d=\"M18.56 5.44l.94 2.06.94-2.06 2.06-.94-2.06-.94-.94-2.06-.94 2.06-2.06.94zm-11 1L8.5 8.5l.94-2.06 2.06-.94-2.06-.94L8.5 2.5l-.94 2.06-2.06.94zm10 10l.94 2.06.94-2.06 2.06-.94-2.06-.94-.94-2.06-.94 2.06-2.06.94z\"/><path d=\"M17.41 7.96l-1.37-1.37c-.4-.4-.92-.59-1.43-.59-.52 0-1.04.2-1.43.59L10.3 9.45l-7.72 7.72c-.78.78-.78 2.05 0 2.83L4 21.41c.39.39.9.59 1.41.59.51 0 1.02-.2 1.41-.59l7.78-7.78 2.81-2.81c.8-.78.8-2.07 0-2.86zM5.41 20L4 18.59l7.72-7.72 1.47 1.35L5.41 20z\"/>\n",
              "  </svg>\n",
              "      </button>\n",
              "      \n",
              "  <style>\n",
              "    .colab-df-container {\n",
              "      display:flex;\n",
              "      flex-wrap:wrap;\n",
              "      gap: 12px;\n",
              "    }\n",
              "\n",
              "    .colab-df-convert {\n",
              "      background-color: #E8F0FE;\n",
              "      border: none;\n",
              "      border-radius: 50%;\n",
              "      cursor: pointer;\n",
              "      display: none;\n",
              "      fill: #1967D2;\n",
              "      height: 32px;\n",
              "      padding: 0 0 0 0;\n",
              "      width: 32px;\n",
              "    }\n",
              "\n",
              "    .colab-df-convert:hover {\n",
              "      background-color: #E2EBFA;\n",
              "      box-shadow: 0px 1px 2px rgba(60, 64, 67, 0.3), 0px 1px 3px 1px rgba(60, 64, 67, 0.15);\n",
              "      fill: #174EA6;\n",
              "    }\n",
              "\n",
              "    [theme=dark] .colab-df-convert {\n",
              "      background-color: #3B4455;\n",
              "      fill: #D2E3FC;\n",
              "    }\n",
              "\n",
              "    [theme=dark] .colab-df-convert:hover {\n",
              "      background-color: #434B5C;\n",
              "      box-shadow: 0px 1px 3px 1px rgba(0, 0, 0, 0.15);\n",
              "      filter: drop-shadow(0px 1px 2px rgba(0, 0, 0, 0.3));\n",
              "      fill: #FFFFFF;\n",
              "    }\n",
              "  </style>\n",
              "\n",
              "      <script>\n",
              "        const buttonEl =\n",
              "          document.querySelector('#df-a86de31e-0791-4cf8-81bf-7ae424c8a538 button.colab-df-convert');\n",
              "        buttonEl.style.display =\n",
              "          google.colab.kernel.accessAllowed ? 'block' : 'none';\n",
              "\n",
              "        async function convertToInteractive(key) {\n",
              "          const element = document.querySelector('#df-a86de31e-0791-4cf8-81bf-7ae424c8a538');\n",
              "          const dataTable =\n",
              "            await google.colab.kernel.invokeFunction('convertToInteractive',\n",
              "                                                     [key], {});\n",
              "          if (!dataTable) return;\n",
              "\n",
              "          const docLinkHtml = 'Like what you see? Visit the ' +\n",
              "            '<a target=\"_blank\" href=https://colab.research.google.com/notebooks/data_table.ipynb>data table notebook</a>'\n",
              "            + ' to learn more about interactive tables.';\n",
              "          element.innerHTML = '';\n",
              "          dataTable['output_type'] = 'display_data';\n",
              "          await google.colab.output.renderOutput(dataTable, element);\n",
              "          const docLink = document.createElement('div');\n",
              "          docLink.innerHTML = docLinkHtml;\n",
              "          element.appendChild(docLink);\n",
              "        }\n",
              "      </script>\n",
              "    </div>\n",
              "  </div>\n",
              "  "
            ],
            "text/plain": [
              "                   A         B         C         D\n",
              "2017-10-01  0.625941  0.758261  0.454917 -0.349797\n",
              "2017-10-02  0.746684  0.409522 -1.742337 -0.979988\n",
              "2017-10-03  2.958377  0.302711  1.622812 -1.622066\n",
              "2017-10-04 -0.609452 -0.635213  0.158442  1.368983\n",
              "2017-10-05 -0.744300 -0.114632 -0.086261 -0.447918\n",
              "...              ...       ...       ...       ...\n",
              "2020-06-22  0.432758 -0.823466 -1.158982 -1.174304\n",
              "2020-06-23  0.158720 -1.571857  1.058635  0.440606\n",
              "2020-06-24 -0.760157 -0.444708  1.479186 -0.089963\n",
              "2020-06-25 -1.875664  0.025999 -0.078808 -0.464825\n",
              "2020-06-26 -0.614394  0.015708  1.153898  0.679604\n",
              "\n",
              "[1000 rows x 4 columns]"
            ]
          },
          "metadata": {},
          "execution_count": 32
        }
      ]
    },
    {
      "cell_type": "code",
      "source": [
        "tdf['2020']"
      ],
      "metadata": {
        "colab": {
          "base_uri": "https://localhost:8080/",
          "height": 478
        },
        "id": "qeEp4t45OAv0",
        "outputId": "fc476939-e5e1-4c08-e93d-4a42670022ad"
      },
      "execution_count": 33,
      "outputs": [
        {
          "output_type": "stream",
          "name": "stderr",
          "text": [
            "/usr/local/lib/python3.7/dist-packages/ipykernel_launcher.py:1: FutureWarning: Indexing a DataFrame with a datetimelike index using a single string to slice the rows, like `frame[string]`, is deprecated and will be removed in a future version. Use `frame.loc[string]` instead.\n",
            "  \"\"\"Entry point for launching an IPython kernel.\n"
          ]
        },
        {
          "output_type": "execute_result",
          "data": {
            "text/html": [
              "\n",
              "  <div id=\"df-11fef227-a8b9-4f64-9763-71064b28953d\">\n",
              "    <div class=\"colab-df-container\">\n",
              "      <div>\n",
              "<style scoped>\n",
              "    .dataframe tbody tr th:only-of-type {\n",
              "        vertical-align: middle;\n",
              "    }\n",
              "\n",
              "    .dataframe tbody tr th {\n",
              "        vertical-align: top;\n",
              "    }\n",
              "\n",
              "    .dataframe thead th {\n",
              "        text-align: right;\n",
              "    }\n",
              "</style>\n",
              "<table border=\"1\" class=\"dataframe\">\n",
              "  <thead>\n",
              "    <tr style=\"text-align: right;\">\n",
              "      <th></th>\n",
              "      <th>A</th>\n",
              "      <th>B</th>\n",
              "      <th>C</th>\n",
              "      <th>D</th>\n",
              "    </tr>\n",
              "  </thead>\n",
              "  <tbody>\n",
              "    <tr>\n",
              "      <th>2020-01-01</th>\n",
              "      <td>-0.346005</td>\n",
              "      <td>-1.227993</td>\n",
              "      <td>1.328280</td>\n",
              "      <td>0.323788</td>\n",
              "    </tr>\n",
              "    <tr>\n",
              "      <th>2020-01-02</th>\n",
              "      <td>0.833038</td>\n",
              "      <td>-1.396067</td>\n",
              "      <td>-1.167929</td>\n",
              "      <td>-0.874089</td>\n",
              "    </tr>\n",
              "    <tr>\n",
              "      <th>2020-01-03</th>\n",
              "      <td>1.024574</td>\n",
              "      <td>2.098297</td>\n",
              "      <td>0.604218</td>\n",
              "      <td>0.641530</td>\n",
              "    </tr>\n",
              "    <tr>\n",
              "      <th>2020-01-04</th>\n",
              "      <td>-0.826143</td>\n",
              "      <td>0.089461</td>\n",
              "      <td>0.470163</td>\n",
              "      <td>-1.311614</td>\n",
              "    </tr>\n",
              "    <tr>\n",
              "      <th>2020-01-05</th>\n",
              "      <td>-0.247822</td>\n",
              "      <td>-0.785305</td>\n",
              "      <td>-0.095304</td>\n",
              "      <td>0.321071</td>\n",
              "    </tr>\n",
              "    <tr>\n",
              "      <th>...</th>\n",
              "      <td>...</td>\n",
              "      <td>...</td>\n",
              "      <td>...</td>\n",
              "      <td>...</td>\n",
              "    </tr>\n",
              "    <tr>\n",
              "      <th>2020-06-22</th>\n",
              "      <td>0.432758</td>\n",
              "      <td>-0.823466</td>\n",
              "      <td>-1.158982</td>\n",
              "      <td>-1.174304</td>\n",
              "    </tr>\n",
              "    <tr>\n",
              "      <th>2020-06-23</th>\n",
              "      <td>0.158720</td>\n",
              "      <td>-1.571857</td>\n",
              "      <td>1.058635</td>\n",
              "      <td>0.440606</td>\n",
              "    </tr>\n",
              "    <tr>\n",
              "      <th>2020-06-24</th>\n",
              "      <td>-0.760157</td>\n",
              "      <td>-0.444708</td>\n",
              "      <td>1.479186</td>\n",
              "      <td>-0.089963</td>\n",
              "    </tr>\n",
              "    <tr>\n",
              "      <th>2020-06-25</th>\n",
              "      <td>-1.875664</td>\n",
              "      <td>0.025999</td>\n",
              "      <td>-0.078808</td>\n",
              "      <td>-0.464825</td>\n",
              "    </tr>\n",
              "    <tr>\n",
              "      <th>2020-06-26</th>\n",
              "      <td>-0.614394</td>\n",
              "      <td>0.015708</td>\n",
              "      <td>1.153898</td>\n",
              "      <td>0.679604</td>\n",
              "    </tr>\n",
              "  </tbody>\n",
              "</table>\n",
              "<p>178 rows × 4 columns</p>\n",
              "</div>\n",
              "      <button class=\"colab-df-convert\" onclick=\"convertToInteractive('df-11fef227-a8b9-4f64-9763-71064b28953d')\"\n",
              "              title=\"Convert this dataframe to an interactive table.\"\n",
              "              style=\"display:none;\">\n",
              "        \n",
              "  <svg xmlns=\"http://www.w3.org/2000/svg\" height=\"24px\"viewBox=\"0 0 24 24\"\n",
              "       width=\"24px\">\n",
              "    <path d=\"M0 0h24v24H0V0z\" fill=\"none\"/>\n",
              "    <path d=\"M18.56 5.44l.94 2.06.94-2.06 2.06-.94-2.06-.94-.94-2.06-.94 2.06-2.06.94zm-11 1L8.5 8.5l.94-2.06 2.06-.94-2.06-.94L8.5 2.5l-.94 2.06-2.06.94zm10 10l.94 2.06.94-2.06 2.06-.94-2.06-.94-.94-2.06-.94 2.06-2.06.94z\"/><path d=\"M17.41 7.96l-1.37-1.37c-.4-.4-.92-.59-1.43-.59-.52 0-1.04.2-1.43.59L10.3 9.45l-7.72 7.72c-.78.78-.78 2.05 0 2.83L4 21.41c.39.39.9.59 1.41.59.51 0 1.02-.2 1.41-.59l7.78-7.78 2.81-2.81c.8-.78.8-2.07 0-2.86zM5.41 20L4 18.59l7.72-7.72 1.47 1.35L5.41 20z\"/>\n",
              "  </svg>\n",
              "      </button>\n",
              "      \n",
              "  <style>\n",
              "    .colab-df-container {\n",
              "      display:flex;\n",
              "      flex-wrap:wrap;\n",
              "      gap: 12px;\n",
              "    }\n",
              "\n",
              "    .colab-df-convert {\n",
              "      background-color: #E8F0FE;\n",
              "      border: none;\n",
              "      border-radius: 50%;\n",
              "      cursor: pointer;\n",
              "      display: none;\n",
              "      fill: #1967D2;\n",
              "      height: 32px;\n",
              "      padding: 0 0 0 0;\n",
              "      width: 32px;\n",
              "    }\n",
              "\n",
              "    .colab-df-convert:hover {\n",
              "      background-color: #E2EBFA;\n",
              "      box-shadow: 0px 1px 2px rgba(60, 64, 67, 0.3), 0px 1px 3px 1px rgba(60, 64, 67, 0.15);\n",
              "      fill: #174EA6;\n",
              "    }\n",
              "\n",
              "    [theme=dark] .colab-df-convert {\n",
              "      background-color: #3B4455;\n",
              "      fill: #D2E3FC;\n",
              "    }\n",
              "\n",
              "    [theme=dark] .colab-df-convert:hover {\n",
              "      background-color: #434B5C;\n",
              "      box-shadow: 0px 1px 3px 1px rgba(0, 0, 0, 0.15);\n",
              "      filter: drop-shadow(0px 1px 2px rgba(0, 0, 0, 0.3));\n",
              "      fill: #FFFFFF;\n",
              "    }\n",
              "  </style>\n",
              "\n",
              "      <script>\n",
              "        const buttonEl =\n",
              "          document.querySelector('#df-11fef227-a8b9-4f64-9763-71064b28953d button.colab-df-convert');\n",
              "        buttonEl.style.display =\n",
              "          google.colab.kernel.accessAllowed ? 'block' : 'none';\n",
              "\n",
              "        async function convertToInteractive(key) {\n",
              "          const element = document.querySelector('#df-11fef227-a8b9-4f64-9763-71064b28953d');\n",
              "          const dataTable =\n",
              "            await google.colab.kernel.invokeFunction('convertToInteractive',\n",
              "                                                     [key], {});\n",
              "          if (!dataTable) return;\n",
              "\n",
              "          const docLinkHtml = 'Like what you see? Visit the ' +\n",
              "            '<a target=\"_blank\" href=https://colab.research.google.com/notebooks/data_table.ipynb>data table notebook</a>'\n",
              "            + ' to learn more about interactive tables.';\n",
              "          element.innerHTML = '';\n",
              "          dataTable['output_type'] = 'display_data';\n",
              "          await google.colab.output.renderOutput(dataTable, element);\n",
              "          const docLink = document.createElement('div');\n",
              "          docLink.innerHTML = docLinkHtml;\n",
              "          element.appendChild(docLink);\n",
              "        }\n",
              "      </script>\n",
              "    </div>\n",
              "  </div>\n",
              "  "
            ],
            "text/plain": [
              "                   A         B         C         D\n",
              "2020-01-01 -0.346005 -1.227993  1.328280  0.323788\n",
              "2020-01-02  0.833038 -1.396067 -1.167929 -0.874089\n",
              "2020-01-03  1.024574  2.098297  0.604218  0.641530\n",
              "2020-01-04 -0.826143  0.089461  0.470163 -1.311614\n",
              "2020-01-05 -0.247822 -0.785305 -0.095304  0.321071\n",
              "...              ...       ...       ...       ...\n",
              "2020-06-22  0.432758 -0.823466 -1.158982 -1.174304\n",
              "2020-06-23  0.158720 -1.571857  1.058635  0.440606\n",
              "2020-06-24 -0.760157 -0.444708  1.479186 -0.089963\n",
              "2020-06-25 -1.875664  0.025999 -0.078808 -0.464825\n",
              "2020-06-26 -0.614394  0.015708  1.153898  0.679604\n",
              "\n",
              "[178 rows x 4 columns]"
            ]
          },
          "metadata": {},
          "execution_count": 33
        }
      ]
    },
    {
      "cell_type": "code",
      "source": [
        "tdf.loc['2020-06']"
      ],
      "metadata": {
        "colab": {
          "base_uri": "https://localhost:8080/",
          "height": 865
        },
        "id": "0hj8vPuDOE_4",
        "outputId": "77da3803-d403-486b-ca75-419e73c1043d"
      },
      "execution_count": 34,
      "outputs": [
        {
          "output_type": "execute_result",
          "data": {
            "text/html": [
              "\n",
              "  <div id=\"df-f1cbf254-2d17-48d2-80ac-acdd6986487b\">\n",
              "    <div class=\"colab-df-container\">\n",
              "      <div>\n",
              "<style scoped>\n",
              "    .dataframe tbody tr th:only-of-type {\n",
              "        vertical-align: middle;\n",
              "    }\n",
              "\n",
              "    .dataframe tbody tr th {\n",
              "        vertical-align: top;\n",
              "    }\n",
              "\n",
              "    .dataframe thead th {\n",
              "        text-align: right;\n",
              "    }\n",
              "</style>\n",
              "<table border=\"1\" class=\"dataframe\">\n",
              "  <thead>\n",
              "    <tr style=\"text-align: right;\">\n",
              "      <th></th>\n",
              "      <th>A</th>\n",
              "      <th>B</th>\n",
              "      <th>C</th>\n",
              "      <th>D</th>\n",
              "    </tr>\n",
              "  </thead>\n",
              "  <tbody>\n",
              "    <tr>\n",
              "      <th>2020-06-01</th>\n",
              "      <td>-0.986475</td>\n",
              "      <td>-1.307456</td>\n",
              "      <td>-0.998813</td>\n",
              "      <td>0.508974</td>\n",
              "    </tr>\n",
              "    <tr>\n",
              "      <th>2020-06-02</th>\n",
              "      <td>-0.098333</td>\n",
              "      <td>0.554325</td>\n",
              "      <td>1.051736</td>\n",
              "      <td>0.093891</td>\n",
              "    </tr>\n",
              "    <tr>\n",
              "      <th>2020-06-03</th>\n",
              "      <td>-1.073891</td>\n",
              "      <td>-0.108999</td>\n",
              "      <td>1.135749</td>\n",
              "      <td>1.725156</td>\n",
              "    </tr>\n",
              "    <tr>\n",
              "      <th>2020-06-04</th>\n",
              "      <td>-0.022569</td>\n",
              "      <td>-0.932889</td>\n",
              "      <td>-1.392190</td>\n",
              "      <td>-0.237379</td>\n",
              "    </tr>\n",
              "    <tr>\n",
              "      <th>2020-06-05</th>\n",
              "      <td>-0.710643</td>\n",
              "      <td>-1.234279</td>\n",
              "      <td>-2.455672</td>\n",
              "      <td>-1.850897</td>\n",
              "    </tr>\n",
              "    <tr>\n",
              "      <th>2020-06-06</th>\n",
              "      <td>-1.124112</td>\n",
              "      <td>1.093885</td>\n",
              "      <td>-1.107203</td>\n",
              "      <td>1.661841</td>\n",
              "    </tr>\n",
              "    <tr>\n",
              "      <th>2020-06-07</th>\n",
              "      <td>0.127646</td>\n",
              "      <td>-1.810374</td>\n",
              "      <td>0.881318</td>\n",
              "      <td>-0.264372</td>\n",
              "    </tr>\n",
              "    <tr>\n",
              "      <th>2020-06-08</th>\n",
              "      <td>-0.177452</td>\n",
              "      <td>2.528984</td>\n",
              "      <td>-1.760672</td>\n",
              "      <td>-1.174295</td>\n",
              "    </tr>\n",
              "    <tr>\n",
              "      <th>2020-06-09</th>\n",
              "      <td>-0.971068</td>\n",
              "      <td>0.291734</td>\n",
              "      <td>-0.157774</td>\n",
              "      <td>-0.137653</td>\n",
              "    </tr>\n",
              "    <tr>\n",
              "      <th>2020-06-10</th>\n",
              "      <td>1.094310</td>\n",
              "      <td>-1.089529</td>\n",
              "      <td>-0.452399</td>\n",
              "      <td>0.633890</td>\n",
              "    </tr>\n",
              "    <tr>\n",
              "      <th>2020-06-11</th>\n",
              "      <td>-0.973614</td>\n",
              "      <td>1.917060</td>\n",
              "      <td>-0.617687</td>\n",
              "      <td>0.725715</td>\n",
              "    </tr>\n",
              "    <tr>\n",
              "      <th>2020-06-12</th>\n",
              "      <td>-1.360649</td>\n",
              "      <td>0.038675</td>\n",
              "      <td>-0.650354</td>\n",
              "      <td>-0.546173</td>\n",
              "    </tr>\n",
              "    <tr>\n",
              "      <th>2020-06-13</th>\n",
              "      <td>-0.431105</td>\n",
              "      <td>-2.186085</td>\n",
              "      <td>1.340415</td>\n",
              "      <td>-0.399673</td>\n",
              "    </tr>\n",
              "    <tr>\n",
              "      <th>2020-06-14</th>\n",
              "      <td>-1.697926</td>\n",
              "      <td>0.388136</td>\n",
              "      <td>1.304971</td>\n",
              "      <td>1.871676</td>\n",
              "    </tr>\n",
              "    <tr>\n",
              "      <th>2020-06-15</th>\n",
              "      <td>-0.072875</td>\n",
              "      <td>-0.104908</td>\n",
              "      <td>-0.219960</td>\n",
              "      <td>-0.837401</td>\n",
              "    </tr>\n",
              "    <tr>\n",
              "      <th>2020-06-16</th>\n",
              "      <td>0.873696</td>\n",
              "      <td>-1.138298</td>\n",
              "      <td>0.973284</td>\n",
              "      <td>-1.036707</td>\n",
              "    </tr>\n",
              "    <tr>\n",
              "      <th>2020-06-17</th>\n",
              "      <td>-0.313484</td>\n",
              "      <td>0.301088</td>\n",
              "      <td>-0.120017</td>\n",
              "      <td>1.094061</td>\n",
              "    </tr>\n",
              "    <tr>\n",
              "      <th>2020-06-18</th>\n",
              "      <td>0.037368</td>\n",
              "      <td>-1.898824</td>\n",
              "      <td>0.522527</td>\n",
              "      <td>0.185464</td>\n",
              "    </tr>\n",
              "    <tr>\n",
              "      <th>2020-06-19</th>\n",
              "      <td>0.432101</td>\n",
              "      <td>-0.922712</td>\n",
              "      <td>-0.483019</td>\n",
              "      <td>0.346567</td>\n",
              "    </tr>\n",
              "    <tr>\n",
              "      <th>2020-06-20</th>\n",
              "      <td>-1.373604</td>\n",
              "      <td>0.620828</td>\n",
              "      <td>-0.813277</td>\n",
              "      <td>0.536836</td>\n",
              "    </tr>\n",
              "    <tr>\n",
              "      <th>2020-06-21</th>\n",
              "      <td>0.764853</td>\n",
              "      <td>-0.377559</td>\n",
              "      <td>2.128074</td>\n",
              "      <td>-0.714717</td>\n",
              "    </tr>\n",
              "    <tr>\n",
              "      <th>2020-06-22</th>\n",
              "      <td>0.432758</td>\n",
              "      <td>-0.823466</td>\n",
              "      <td>-1.158982</td>\n",
              "      <td>-1.174304</td>\n",
              "    </tr>\n",
              "    <tr>\n",
              "      <th>2020-06-23</th>\n",
              "      <td>0.158720</td>\n",
              "      <td>-1.571857</td>\n",
              "      <td>1.058635</td>\n",
              "      <td>0.440606</td>\n",
              "    </tr>\n",
              "    <tr>\n",
              "      <th>2020-06-24</th>\n",
              "      <td>-0.760157</td>\n",
              "      <td>-0.444708</td>\n",
              "      <td>1.479186</td>\n",
              "      <td>-0.089963</td>\n",
              "    </tr>\n",
              "    <tr>\n",
              "      <th>2020-06-25</th>\n",
              "      <td>-1.875664</td>\n",
              "      <td>0.025999</td>\n",
              "      <td>-0.078808</td>\n",
              "      <td>-0.464825</td>\n",
              "    </tr>\n",
              "    <tr>\n",
              "      <th>2020-06-26</th>\n",
              "      <td>-0.614394</td>\n",
              "      <td>0.015708</td>\n",
              "      <td>1.153898</td>\n",
              "      <td>0.679604</td>\n",
              "    </tr>\n",
              "  </tbody>\n",
              "</table>\n",
              "</div>\n",
              "      <button class=\"colab-df-convert\" onclick=\"convertToInteractive('df-f1cbf254-2d17-48d2-80ac-acdd6986487b')\"\n",
              "              title=\"Convert this dataframe to an interactive table.\"\n",
              "              style=\"display:none;\">\n",
              "        \n",
              "  <svg xmlns=\"http://www.w3.org/2000/svg\" height=\"24px\"viewBox=\"0 0 24 24\"\n",
              "       width=\"24px\">\n",
              "    <path d=\"M0 0h24v24H0V0z\" fill=\"none\"/>\n",
              "    <path d=\"M18.56 5.44l.94 2.06.94-2.06 2.06-.94-2.06-.94-.94-2.06-.94 2.06-2.06.94zm-11 1L8.5 8.5l.94-2.06 2.06-.94-2.06-.94L8.5 2.5l-.94 2.06-2.06.94zm10 10l.94 2.06.94-2.06 2.06-.94-2.06-.94-.94-2.06-.94 2.06-2.06.94z\"/><path d=\"M17.41 7.96l-1.37-1.37c-.4-.4-.92-.59-1.43-.59-.52 0-1.04.2-1.43.59L10.3 9.45l-7.72 7.72c-.78.78-.78 2.05 0 2.83L4 21.41c.39.39.9.59 1.41.59.51 0 1.02-.2 1.41-.59l7.78-7.78 2.81-2.81c.8-.78.8-2.07 0-2.86zM5.41 20L4 18.59l7.72-7.72 1.47 1.35L5.41 20z\"/>\n",
              "  </svg>\n",
              "      </button>\n",
              "      \n",
              "  <style>\n",
              "    .colab-df-container {\n",
              "      display:flex;\n",
              "      flex-wrap:wrap;\n",
              "      gap: 12px;\n",
              "    }\n",
              "\n",
              "    .colab-df-convert {\n",
              "      background-color: #E8F0FE;\n",
              "      border: none;\n",
              "      border-radius: 50%;\n",
              "      cursor: pointer;\n",
              "      display: none;\n",
              "      fill: #1967D2;\n",
              "      height: 32px;\n",
              "      padding: 0 0 0 0;\n",
              "      width: 32px;\n",
              "    }\n",
              "\n",
              "    .colab-df-convert:hover {\n",
              "      background-color: #E2EBFA;\n",
              "      box-shadow: 0px 1px 2px rgba(60, 64, 67, 0.3), 0px 1px 3px 1px rgba(60, 64, 67, 0.15);\n",
              "      fill: #174EA6;\n",
              "    }\n",
              "\n",
              "    [theme=dark] .colab-df-convert {\n",
              "      background-color: #3B4455;\n",
              "      fill: #D2E3FC;\n",
              "    }\n",
              "\n",
              "    [theme=dark] .colab-df-convert:hover {\n",
              "      background-color: #434B5C;\n",
              "      box-shadow: 0px 1px 3px 1px rgba(0, 0, 0, 0.15);\n",
              "      filter: drop-shadow(0px 1px 2px rgba(0, 0, 0, 0.3));\n",
              "      fill: #FFFFFF;\n",
              "    }\n",
              "  </style>\n",
              "\n",
              "      <script>\n",
              "        const buttonEl =\n",
              "          document.querySelector('#df-f1cbf254-2d17-48d2-80ac-acdd6986487b button.colab-df-convert');\n",
              "        buttonEl.style.display =\n",
              "          google.colab.kernel.accessAllowed ? 'block' : 'none';\n",
              "\n",
              "        async function convertToInteractive(key) {\n",
              "          const element = document.querySelector('#df-f1cbf254-2d17-48d2-80ac-acdd6986487b');\n",
              "          const dataTable =\n",
              "            await google.colab.kernel.invokeFunction('convertToInteractive',\n",
              "                                                     [key], {});\n",
              "          if (!dataTable) return;\n",
              "\n",
              "          const docLinkHtml = 'Like what you see? Visit the ' +\n",
              "            '<a target=\"_blank\" href=https://colab.research.google.com/notebooks/data_table.ipynb>data table notebook</a>'\n",
              "            + ' to learn more about interactive tables.';\n",
              "          element.innerHTML = '';\n",
              "          dataTable['output_type'] = 'display_data';\n",
              "          await google.colab.output.renderOutput(dataTable, element);\n",
              "          const docLink = document.createElement('div');\n",
              "          docLink.innerHTML = docLinkHtml;\n",
              "          element.appendChild(docLink);\n",
              "        }\n",
              "      </script>\n",
              "    </div>\n",
              "  </div>\n",
              "  "
            ],
            "text/plain": [
              "                   A         B         C         D\n",
              "2020-06-01 -0.986475 -1.307456 -0.998813  0.508974\n",
              "2020-06-02 -0.098333  0.554325  1.051736  0.093891\n",
              "2020-06-03 -1.073891 -0.108999  1.135749  1.725156\n",
              "2020-06-04 -0.022569 -0.932889 -1.392190 -0.237379\n",
              "2020-06-05 -0.710643 -1.234279 -2.455672 -1.850897\n",
              "2020-06-06 -1.124112  1.093885 -1.107203  1.661841\n",
              "2020-06-07  0.127646 -1.810374  0.881318 -0.264372\n",
              "2020-06-08 -0.177452  2.528984 -1.760672 -1.174295\n",
              "2020-06-09 -0.971068  0.291734 -0.157774 -0.137653\n",
              "2020-06-10  1.094310 -1.089529 -0.452399  0.633890\n",
              "2020-06-11 -0.973614  1.917060 -0.617687  0.725715\n",
              "2020-06-12 -1.360649  0.038675 -0.650354 -0.546173\n",
              "2020-06-13 -0.431105 -2.186085  1.340415 -0.399673\n",
              "2020-06-14 -1.697926  0.388136  1.304971  1.871676\n",
              "2020-06-15 -0.072875 -0.104908 -0.219960 -0.837401\n",
              "2020-06-16  0.873696 -1.138298  0.973284 -1.036707\n",
              "2020-06-17 -0.313484  0.301088 -0.120017  1.094061\n",
              "2020-06-18  0.037368 -1.898824  0.522527  0.185464\n",
              "2020-06-19  0.432101 -0.922712 -0.483019  0.346567\n",
              "2020-06-20 -1.373604  0.620828 -0.813277  0.536836\n",
              "2020-06-21  0.764853 -0.377559  2.128074 -0.714717\n",
              "2020-06-22  0.432758 -0.823466 -1.158982 -1.174304\n",
              "2020-06-23  0.158720 -1.571857  1.058635  0.440606\n",
              "2020-06-24 -0.760157 -0.444708  1.479186 -0.089963\n",
              "2020-06-25 -1.875664  0.025999 -0.078808 -0.464825\n",
              "2020-06-26 -0.614394  0.015708  1.153898  0.679604"
            ]
          },
          "metadata": {},
          "execution_count": 34
        }
      ]
    },
    {
      "cell_type": "code",
      "source": [
        "tdf['2020-06-20':]"
      ],
      "metadata": {
        "colab": {
          "base_uri": "https://localhost:8080/",
          "height": 269
        },
        "id": "HNIer9mbOIpU",
        "outputId": "e8105e43-d6ce-48a6-f87c-76e16d6a0127"
      },
      "execution_count": 35,
      "outputs": [
        {
          "output_type": "execute_result",
          "data": {
            "text/html": [
              "\n",
              "  <div id=\"df-440cb4a2-0870-4a49-a9d1-bf8537e2d91e\">\n",
              "    <div class=\"colab-df-container\">\n",
              "      <div>\n",
              "<style scoped>\n",
              "    .dataframe tbody tr th:only-of-type {\n",
              "        vertical-align: middle;\n",
              "    }\n",
              "\n",
              "    .dataframe tbody tr th {\n",
              "        vertical-align: top;\n",
              "    }\n",
              "\n",
              "    .dataframe thead th {\n",
              "        text-align: right;\n",
              "    }\n",
              "</style>\n",
              "<table border=\"1\" class=\"dataframe\">\n",
              "  <thead>\n",
              "    <tr style=\"text-align: right;\">\n",
              "      <th></th>\n",
              "      <th>A</th>\n",
              "      <th>B</th>\n",
              "      <th>C</th>\n",
              "      <th>D</th>\n",
              "    </tr>\n",
              "  </thead>\n",
              "  <tbody>\n",
              "    <tr>\n",
              "      <th>2020-06-20</th>\n",
              "      <td>-1.373604</td>\n",
              "      <td>0.620828</td>\n",
              "      <td>-0.813277</td>\n",
              "      <td>0.536836</td>\n",
              "    </tr>\n",
              "    <tr>\n",
              "      <th>2020-06-21</th>\n",
              "      <td>0.764853</td>\n",
              "      <td>-0.377559</td>\n",
              "      <td>2.128074</td>\n",
              "      <td>-0.714717</td>\n",
              "    </tr>\n",
              "    <tr>\n",
              "      <th>2020-06-22</th>\n",
              "      <td>0.432758</td>\n",
              "      <td>-0.823466</td>\n",
              "      <td>-1.158982</td>\n",
              "      <td>-1.174304</td>\n",
              "    </tr>\n",
              "    <tr>\n",
              "      <th>2020-06-23</th>\n",
              "      <td>0.158720</td>\n",
              "      <td>-1.571857</td>\n",
              "      <td>1.058635</td>\n",
              "      <td>0.440606</td>\n",
              "    </tr>\n",
              "    <tr>\n",
              "      <th>2020-06-24</th>\n",
              "      <td>-0.760157</td>\n",
              "      <td>-0.444708</td>\n",
              "      <td>1.479186</td>\n",
              "      <td>-0.089963</td>\n",
              "    </tr>\n",
              "    <tr>\n",
              "      <th>2020-06-25</th>\n",
              "      <td>-1.875664</td>\n",
              "      <td>0.025999</td>\n",
              "      <td>-0.078808</td>\n",
              "      <td>-0.464825</td>\n",
              "    </tr>\n",
              "    <tr>\n",
              "      <th>2020-06-26</th>\n",
              "      <td>-0.614394</td>\n",
              "      <td>0.015708</td>\n",
              "      <td>1.153898</td>\n",
              "      <td>0.679604</td>\n",
              "    </tr>\n",
              "  </tbody>\n",
              "</table>\n",
              "</div>\n",
              "      <button class=\"colab-df-convert\" onclick=\"convertToInteractive('df-440cb4a2-0870-4a49-a9d1-bf8537e2d91e')\"\n",
              "              title=\"Convert this dataframe to an interactive table.\"\n",
              "              style=\"display:none;\">\n",
              "        \n",
              "  <svg xmlns=\"http://www.w3.org/2000/svg\" height=\"24px\"viewBox=\"0 0 24 24\"\n",
              "       width=\"24px\">\n",
              "    <path d=\"M0 0h24v24H0V0z\" fill=\"none\"/>\n",
              "    <path d=\"M18.56 5.44l.94 2.06.94-2.06 2.06-.94-2.06-.94-.94-2.06-.94 2.06-2.06.94zm-11 1L8.5 8.5l.94-2.06 2.06-.94-2.06-.94L8.5 2.5l-.94 2.06-2.06.94zm10 10l.94 2.06.94-2.06 2.06-.94-2.06-.94-.94-2.06-.94 2.06-2.06.94z\"/><path d=\"M17.41 7.96l-1.37-1.37c-.4-.4-.92-.59-1.43-.59-.52 0-1.04.2-1.43.59L10.3 9.45l-7.72 7.72c-.78.78-.78 2.05 0 2.83L4 21.41c.39.39.9.59 1.41.59.51 0 1.02-.2 1.41-.59l7.78-7.78 2.81-2.81c.8-.78.8-2.07 0-2.86zM5.41 20L4 18.59l7.72-7.72 1.47 1.35L5.41 20z\"/>\n",
              "  </svg>\n",
              "      </button>\n",
              "      \n",
              "  <style>\n",
              "    .colab-df-container {\n",
              "      display:flex;\n",
              "      flex-wrap:wrap;\n",
              "      gap: 12px;\n",
              "    }\n",
              "\n",
              "    .colab-df-convert {\n",
              "      background-color: #E8F0FE;\n",
              "      border: none;\n",
              "      border-radius: 50%;\n",
              "      cursor: pointer;\n",
              "      display: none;\n",
              "      fill: #1967D2;\n",
              "      height: 32px;\n",
              "      padding: 0 0 0 0;\n",
              "      width: 32px;\n",
              "    }\n",
              "\n",
              "    .colab-df-convert:hover {\n",
              "      background-color: #E2EBFA;\n",
              "      box-shadow: 0px 1px 2px rgba(60, 64, 67, 0.3), 0px 1px 3px 1px rgba(60, 64, 67, 0.15);\n",
              "      fill: #174EA6;\n",
              "    }\n",
              "\n",
              "    [theme=dark] .colab-df-convert {\n",
              "      background-color: #3B4455;\n",
              "      fill: #D2E3FC;\n",
              "    }\n",
              "\n",
              "    [theme=dark] .colab-df-convert:hover {\n",
              "      background-color: #434B5C;\n",
              "      box-shadow: 0px 1px 3px 1px rgba(0, 0, 0, 0.15);\n",
              "      filter: drop-shadow(0px 1px 2px rgba(0, 0, 0, 0.3));\n",
              "      fill: #FFFFFF;\n",
              "    }\n",
              "  </style>\n",
              "\n",
              "      <script>\n",
              "        const buttonEl =\n",
              "          document.querySelector('#df-440cb4a2-0870-4a49-a9d1-bf8537e2d91e button.colab-df-convert');\n",
              "        buttonEl.style.display =\n",
              "          google.colab.kernel.accessAllowed ? 'block' : 'none';\n",
              "\n",
              "        async function convertToInteractive(key) {\n",
              "          const element = document.querySelector('#df-440cb4a2-0870-4a49-a9d1-bf8537e2d91e');\n",
              "          const dataTable =\n",
              "            await google.colab.kernel.invokeFunction('convertToInteractive',\n",
              "                                                     [key], {});\n",
              "          if (!dataTable) return;\n",
              "\n",
              "          const docLinkHtml = 'Like what you see? Visit the ' +\n",
              "            '<a target=\"_blank\" href=https://colab.research.google.com/notebooks/data_table.ipynb>data table notebook</a>'\n",
              "            + ' to learn more about interactive tables.';\n",
              "          element.innerHTML = '';\n",
              "          dataTable['output_type'] = 'display_data';\n",
              "          await google.colab.output.renderOutput(dataTable, element);\n",
              "          const docLink = document.createElement('div');\n",
              "          docLink.innerHTML = docLinkHtml;\n",
              "          element.appendChild(docLink);\n",
              "        }\n",
              "      </script>\n",
              "    </div>\n",
              "  </div>\n",
              "  "
            ],
            "text/plain": [
              "                   A         B         C         D\n",
              "2020-06-20 -1.373604  0.620828 -0.813277  0.536836\n",
              "2020-06-21  0.764853 -0.377559  2.128074 -0.714717\n",
              "2020-06-22  0.432758 -0.823466 -1.158982 -1.174304\n",
              "2020-06-23  0.158720 -1.571857  1.058635  0.440606\n",
              "2020-06-24 -0.760157 -0.444708  1.479186 -0.089963\n",
              "2020-06-25 -1.875664  0.025999 -0.078808 -0.464825\n",
              "2020-06-26 -0.614394  0.015708  1.153898  0.679604"
            ]
          },
          "metadata": {},
          "execution_count": 35
        }
      ]
    },
    {
      "cell_type": "code",
      "source": [
        "tdf['C']"
      ],
      "metadata": {
        "colab": {
          "base_uri": "https://localhost:8080/"
        },
        "id": "Z8TpF209OQEZ",
        "outputId": "d4279cd5-4817-4b23-9a4b-893a092b996a"
      },
      "execution_count": 36,
      "outputs": [
        {
          "output_type": "execute_result",
          "data": {
            "text/plain": [
              "2017-10-01    0.454917\n",
              "2017-10-02   -1.742337\n",
              "2017-10-03    1.622812\n",
              "2017-10-04    0.158442\n",
              "2017-10-05   -0.086261\n",
              "                ...   \n",
              "2020-06-22   -1.158982\n",
              "2020-06-23    1.058635\n",
              "2020-06-24    1.479186\n",
              "2020-06-25   -0.078808\n",
              "2020-06-26    1.153898\n",
              "Freq: D, Name: C, Length: 1000, dtype: float64"
            ]
          },
          "metadata": {},
          "execution_count": 36
        }
      ]
    },
    {
      "cell_type": "code",
      "source": [
        "ts=pd.Series(np.random.randn(10),\n",
        "             index=pd.DatetimeIndex(['2020-01-01','2020-01-01','2020-01-02','2020-01-02','2020-01-03',\n",
        "                                     '2020-01-04','2020-01-05','2020-01-05','2020-01-06','2020-01-07']))\n",
        "ts"
      ],
      "metadata": {
        "colab": {
          "base_uri": "https://localhost:8080/"
        },
        "id": "0rgiWM8_OS7e",
        "outputId": "0f0ac685-ec87-44ed-aef1-0fa5ac8d1423"
      },
      "execution_count": 6,
      "outputs": [
        {
          "output_type": "execute_result",
          "data": {
            "text/plain": [
              "2020-01-01    0.143883\n",
              "2020-01-01   -0.343107\n",
              "2020-01-02    0.706448\n",
              "2020-01-02    0.464616\n",
              "2020-01-03    0.272785\n",
              "2020-01-04    2.569050\n",
              "2020-01-05    0.345504\n",
              "2020-01-05    2.115973\n",
              "2020-01-06   -1.365022\n",
              "2020-01-07   -0.523926\n",
              "dtype: float64"
            ]
          },
          "metadata": {},
          "execution_count": 6
        }
      ]
    },
    {
      "cell_type": "code",
      "source": [
        "ts.index.is_unique\n"
      ],
      "metadata": {
        "colab": {
          "base_uri": "https://localhost:8080/"
        },
        "id": "uXE6wRYE0NYH",
        "outputId": "66f1382d-43e8-4afd-e005-c420c0f0029a"
      },
      "execution_count": 7,
      "outputs": [
        {
          "output_type": "execute_result",
          "data": {
            "text/plain": [
              "False"
            ]
          },
          "metadata": {},
          "execution_count": 7
        }
      ]
    },
    {
      "cell_type": "code",
      "source": [
        "ts.groupby(level=0).mean()"
      ],
      "metadata": {
        "colab": {
          "base_uri": "https://localhost:8080/"
        },
        "id": "3UJdc-sZ1AT3",
        "outputId": "57959693-53a9-4193-e4e0-d76c6450d056"
      },
      "execution_count": 8,
      "outputs": [
        {
          "output_type": "execute_result",
          "data": {
            "text/plain": [
              "2020-01-01   -0.099612\n",
              "2020-01-02    0.585532\n",
              "2020-01-03    0.272785\n",
              "2020-01-04    2.569050\n",
              "2020-01-05    1.230738\n",
              "2020-01-06   -1.365022\n",
              "2020-01-07   -0.523926\n",
              "dtype: float64"
            ]
          },
          "metadata": {},
          "execution_count": 8
        }
      ]
    },
    {
      "cell_type": "code",
      "source": [
        "pd.date_range('2020-01-01','2020-07-01')"
      ],
      "metadata": {
        "colab": {
          "base_uri": "https://localhost:8080/"
        },
        "id": "VZsIm5Vk1EQN",
        "outputId": "ee8707f4-ece0-4c32-a62a-c57ed0fba027"
      },
      "execution_count": 9,
      "outputs": [
        {
          "output_type": "execute_result",
          "data": {
            "text/plain": [
              "DatetimeIndex(['2020-01-01', '2020-01-02', '2020-01-03', '2020-01-04',\n",
              "               '2020-01-05', '2020-01-06', '2020-01-07', '2020-01-08',\n",
              "               '2020-01-09', '2020-01-10',\n",
              "               ...\n",
              "               '2020-06-22', '2020-06-23', '2020-06-24', '2020-06-25',\n",
              "               '2020-06-26', '2020-06-27', '2020-06-28', '2020-06-29',\n",
              "               '2020-06-30', '2020-07-01'],\n",
              "              dtype='datetime64[ns]', length=183, freq='D')"
            ]
          },
          "metadata": {},
          "execution_count": 9
        }
      ]
    },
    {
      "cell_type": "code",
      "source": [
        "pd.date_range(start='2020-01-01',periods=10)"
      ],
      "metadata": {
        "colab": {
          "base_uri": "https://localhost:8080/"
        },
        "id": "GEyL9VAY1L2q",
        "outputId": "0e57d20b-243c-4edf-93a0-1609ef54c8ee"
      },
      "execution_count": 10,
      "outputs": [
        {
          "output_type": "execute_result",
          "data": {
            "text/plain": [
              "DatetimeIndex(['2020-01-01', '2020-01-02', '2020-01-03', '2020-01-04',\n",
              "               '2020-01-05', '2020-01-06', '2020-01-07', '2020-01-08',\n",
              "               '2020-01-09', '2020-01-10'],\n",
              "              dtype='datetime64[ns]', freq='D')"
            ]
          },
          "metadata": {},
          "execution_count": 10
        }
      ]
    },
    {
      "cell_type": "code",
      "source": [
        "pd.date_range(end='2020-07-01',periods=10)"
      ],
      "metadata": {
        "colab": {
          "base_uri": "https://localhost:8080/"
        },
        "id": "O3OXAEEQ1bEp",
        "outputId": "c16b7043-7ca4-4707-860d-399d1310a89a"
      },
      "execution_count": 12,
      "outputs": [
        {
          "output_type": "execute_result",
          "data": {
            "text/plain": [
              "DatetimeIndex(['2020-06-22', '2020-06-23', '2020-06-24', '2020-06-25',\n",
              "               '2020-06-26', '2020-06-27', '2020-06-28', '2020-06-29',\n",
              "               '2020-06-30', '2020-07-01'],\n",
              "              dtype='datetime64[ns]', freq='D')"
            ]
          },
          "metadata": {},
          "execution_count": 12
        }
      ]
    },
    {
      "cell_type": "code",
      "source": [
        "pd.date_range('2020-07-01','2020-07-7',freq='B') ##Business 영업일만 뜬다. "
      ],
      "metadata": {
        "colab": {
          "base_uri": "https://localhost:8080/"
        },
        "id": "vduZ59Qs1gcY",
        "outputId": "d1f0f4ff-e629-4d71-c953-72f00903d2a9"
      },
      "execution_count": 13,
      "outputs": [
        {
          "output_type": "execute_result",
          "data": {
            "text/plain": [
              "DatetimeIndex(['2020-07-01', '2020-07-02', '2020-07-03', '2020-07-06',\n",
              "               '2020-07-07'],\n",
              "              dtype='datetime64[ns]', freq='B')"
            ]
          },
          "metadata": {},
          "execution_count": 13
        }
      ]
    },
    {
      "cell_type": "code",
      "source": [
        "pd.timedelta_range(0,periods=12,freq='H')"
      ],
      "metadata": {
        "colab": {
          "base_uri": "https://localhost:8080/"
        },
        "id": "fyfVNPVe1uzm",
        "outputId": "721caa86-3f0c-4f06-ee49-e6c6de9e42bf"
      },
      "execution_count": 14,
      "outputs": [
        {
          "output_type": "execute_result",
          "data": {
            "text/plain": [
              "TimedeltaIndex(['0 days 00:00:00', '0 days 01:00:00', '0 days 02:00:00',\n",
              "                '0 days 03:00:00', '0 days 04:00:00', '0 days 05:00:00',\n",
              "                '0 days 06:00:00', '0 days 07:00:00', '0 days 08:00:00',\n",
              "                '0 days 09:00:00', '0 days 10:00:00', '0 days 11:00:00'],\n",
              "               dtype='timedelta64[ns]', freq='H')"
            ]
          },
          "metadata": {},
          "execution_count": 14
        }
      ]
    },
    {
      "cell_type": "code",
      "source": [
        "pd.timedelta_range(0,periods=60,freq='T')"
      ],
      "metadata": {
        "colab": {
          "base_uri": "https://localhost:8080/"
        },
        "id": "HwSHdEgU2hey",
        "outputId": "eaf31d10-918a-40ca-cfd8-a0748a7f1b00"
      },
      "execution_count": 15,
      "outputs": [
        {
          "output_type": "execute_result",
          "data": {
            "text/plain": [
              "TimedeltaIndex(['0 days 00:00:00', '0 days 00:01:00', '0 days 00:02:00',\n",
              "                '0 days 00:03:00', '0 days 00:04:00', '0 days 00:05:00',\n",
              "                '0 days 00:06:00', '0 days 00:07:00', '0 days 00:08:00',\n",
              "                '0 days 00:09:00', '0 days 00:10:00', '0 days 00:11:00',\n",
              "                '0 days 00:12:00', '0 days 00:13:00', '0 days 00:14:00',\n",
              "                '0 days 00:15:00', '0 days 00:16:00', '0 days 00:17:00',\n",
              "                '0 days 00:18:00', '0 days 00:19:00', '0 days 00:20:00',\n",
              "                '0 days 00:21:00', '0 days 00:22:00', '0 days 00:23:00',\n",
              "                '0 days 00:24:00', '0 days 00:25:00', '0 days 00:26:00',\n",
              "                '0 days 00:27:00', '0 days 00:28:00', '0 days 00:29:00',\n",
              "                '0 days 00:30:00', '0 days 00:31:00', '0 days 00:32:00',\n",
              "                '0 days 00:33:00', '0 days 00:34:00', '0 days 00:35:00',\n",
              "                '0 days 00:36:00', '0 days 00:37:00', '0 days 00:38:00',\n",
              "                '0 days 00:39:00', '0 days 00:40:00', '0 days 00:41:00',\n",
              "                '0 days 00:42:00', '0 days 00:43:00', '0 days 00:44:00',\n",
              "                '0 days 00:45:00', '0 days 00:46:00', '0 days 00:47:00',\n",
              "                '0 days 00:48:00', '0 days 00:49:00', '0 days 00:50:00',\n",
              "                '0 days 00:51:00', '0 days 00:52:00', '0 days 00:53:00',\n",
              "                '0 days 00:54:00', '0 days 00:55:00', '0 days 00:56:00',\n",
              "                '0 days 00:57:00', '0 days 00:58:00', '0 days 00:59:00'],\n",
              "               dtype='timedelta64[ns]', freq='T')"
            ]
          },
          "metadata": {},
          "execution_count": 15
        }
      ]
    },
    {
      "cell_type": "code",
      "source": [
        "ts=pd.Series(np.random.randn(5),\n",
        "             index=pd.date_range('2020-01-01',periods=5,freq='B'))\n",
        "ts"
      ],
      "metadata": {
        "colab": {
          "base_uri": "https://localhost:8080/"
        },
        "id": "zUtsURKg2m7N",
        "outputId": "261612f8-388a-41b0-b249-d72ceb7d58d8"
      },
      "execution_count": 16,
      "outputs": [
        {
          "output_type": "execute_result",
          "data": {
            "text/plain": [
              "2020-01-01   -0.644727\n",
              "2020-01-02   -0.838189\n",
              "2020-01-03   -0.190247\n",
              "2020-01-06   -0.296700\n",
              "2020-01-07    4.023581\n",
              "Freq: B, dtype: float64"
            ]
          },
          "metadata": {},
          "execution_count": 16
        }
      ]
    },
    {
      "cell_type": "code",
      "source": [
        "ts.shift(1)"
      ],
      "metadata": {
        "colab": {
          "base_uri": "https://localhost:8080/"
        },
        "id": "Uf_c9JMn27pR",
        "outputId": "03354e80-585a-4f29-9837-2b7c81a429fa"
      },
      "execution_count": 17,
      "outputs": [
        {
          "output_type": "execute_result",
          "data": {
            "text/plain": [
              "2020-01-01         NaN\n",
              "2020-01-02   -0.644727\n",
              "2020-01-03   -0.838189\n",
              "2020-01-06   -0.190247\n",
              "2020-01-07   -0.296700\n",
              "Freq: B, dtype: float64"
            ]
          },
          "metadata": {},
          "execution_count": 17
        }
      ]
    },
    {
      "cell_type": "code",
      "source": [
        "ts.shift(3)"
      ],
      "metadata": {
        "colab": {
          "base_uri": "https://localhost:8080/"
        },
        "id": "QovJFqQQ29dL",
        "outputId": "db95a007-7ec9-49f3-fda2-37085616acdf"
      },
      "execution_count": 18,
      "outputs": [
        {
          "output_type": "execute_result",
          "data": {
            "text/plain": [
              "2020-01-01         NaN\n",
              "2020-01-02         NaN\n",
              "2020-01-03         NaN\n",
              "2020-01-06   -0.644727\n",
              "2020-01-07   -0.838189\n",
              "Freq: B, dtype: float64"
            ]
          },
          "metadata": {},
          "execution_count": 18
        }
      ]
    },
    {
      "cell_type": "code",
      "source": [
        "ts.shift(-2)"
      ],
      "metadata": {
        "colab": {
          "base_uri": "https://localhost:8080/"
        },
        "id": "GOqPaUJh2_3O",
        "outputId": "19781b4d-f326-44db-e2ba-d5af906ccd3a"
      },
      "execution_count": 19,
      "outputs": [
        {
          "output_type": "execute_result",
          "data": {
            "text/plain": [
              "2020-01-01   -0.190247\n",
              "2020-01-02   -0.296700\n",
              "2020-01-03    4.023581\n",
              "2020-01-06         NaN\n",
              "2020-01-07         NaN\n",
              "Freq: B, dtype: float64"
            ]
          },
          "metadata": {},
          "execution_count": 19
        }
      ]
    },
    {
      "cell_type": "code",
      "source": [
        "import pytz\n",
        "pytz.common_timezones\n",
        "tz=pytz.timezone('Asia/Seoul')"
      ],
      "metadata": {
        "id": "9XNCZVEl3Ce9"
      },
      "execution_count": 21,
      "outputs": []
    },
    {
      "cell_type": "code",
      "source": [
        "dinx=pd.date_range('2020-01-01 09:00',periods=7,freq='B')\n",
        "ts=pd.Series(np.random.randn(len(dinx)),index=dinx)\n",
        "ts"
      ],
      "metadata": {
        "colab": {
          "base_uri": "https://localhost:8080/"
        },
        "id": "FiA6hwHl3Kuc",
        "outputId": "42b53eaf-a070-4370-8be8-5b771b571d65"
      },
      "execution_count": 22,
      "outputs": [
        {
          "output_type": "execute_result",
          "data": {
            "text/plain": [
              "2020-01-01 09:00:00   -1.798781\n",
              "2020-01-02 09:00:00    0.091660\n",
              "2020-01-03 09:00:00    1.243027\n",
              "2020-01-06 09:00:00    0.945864\n",
              "2020-01-07 09:00:00   -0.778715\n",
              "2020-01-08 09:00:00   -1.228136\n",
              "2020-01-09 09:00:00   -0.779883\n",
              "Freq: B, dtype: float64"
            ]
          },
          "metadata": {},
          "execution_count": 22
        }
      ]
    },
    {
      "cell_type": "code",
      "source": [
        "pd.date_range('2020-01-01 09:00',periods=7,freq='B',tz='UTC')"
      ],
      "metadata": {
        "colab": {
          "base_uri": "https://localhost:8080/"
        },
        "id": "Uen5XoZ33fL9",
        "outputId": "666b1763-535c-47ef-df85-f65f94a8e14d"
      },
      "execution_count": 23,
      "outputs": [
        {
          "output_type": "execute_result",
          "data": {
            "text/plain": [
              "DatetimeIndex(['2020-01-01 09:00:00+00:00', '2020-01-02 09:00:00+00:00',\n",
              "               '2020-01-03 09:00:00+00:00', '2020-01-06 09:00:00+00:00',\n",
              "               '2020-01-07 09:00:00+00:00', '2020-01-08 09:00:00+00:00',\n",
              "               '2020-01-09 09:00:00+00:00'],\n",
              "              dtype='datetime64[ns, UTC]', freq='B')"
            ]
          },
          "metadata": {},
          "execution_count": 23
        }
      ]
    },
    {
      "cell_type": "code",
      "source": [
        "##기간과 기간 연산"
      ],
      "metadata": {
        "id": "hgq_tZPv3nhO"
      },
      "execution_count": 24,
      "outputs": []
    },
    {
      "cell_type": "code",
      "source": [
        "p=pd.Period(2020,freq='A-JAN')\n",
        "p"
      ],
      "metadata": {
        "colab": {
          "base_uri": "https://localhost:8080/"
        },
        "id": "de4Kphdj3uK7",
        "outputId": "f220d099-78c0-4e99-f614-7df2a0e98844"
      },
      "execution_count": 25,
      "outputs": [
        {
          "output_type": "execute_result",
          "data": {
            "text/plain": [
              "Period('2020', 'A-JAN')"
            ]
          },
          "metadata": {},
          "execution_count": 25
        }
      ]
    },
    {
      "cell_type": "code",
      "source": [
        "p+2"
      ],
      "metadata": {
        "colab": {
          "base_uri": "https://localhost:8080/"
        },
        "id": "AAb1aRgc3yqn",
        "outputId": "be2f0cdc-f49e-4a9c-ddd8-a3c257e706b7"
      },
      "execution_count": 26,
      "outputs": [
        {
          "output_type": "execute_result",
          "data": {
            "text/plain": [
              "Period('2022', 'A-JAN')"
            ]
          },
          "metadata": {},
          "execution_count": 26
        }
      ]
    },
    {
      "cell_type": "code",
      "source": [
        "p-3"
      ],
      "metadata": {
        "colab": {
          "base_uri": "https://localhost:8080/"
        },
        "id": "zKZ-McNf3zmR",
        "outputId": "9cbbd535-cafe-450e-d4b2-587071a36fe1"
      },
      "execution_count": 27,
      "outputs": [
        {
          "output_type": "execute_result",
          "data": {
            "text/plain": [
              "Period('2017', 'A-JAN')"
            ]
          },
          "metadata": {},
          "execution_count": 27
        }
      ]
    },
    {
      "cell_type": "code",
      "source": [
        "p1=pd.Period(2010,freq='A-JAN')\n",
        "p2=pd.Period(2020,freq='A-JAN')\n",
        "p2-p1"
      ],
      "metadata": {
        "colab": {
          "base_uri": "https://localhost:8080/"
        },
        "id": "o4BF9JAY312K",
        "outputId": "cfa64440-8976-490d-82d9-3315dd17c6e8"
      },
      "execution_count": 28,
      "outputs": [
        {
          "output_type": "execute_result",
          "data": {
            "text/plain": [
              "<10 * YearEnds: month=1>"
            ]
          },
          "metadata": {},
          "execution_count": 28
        }
      ]
    },
    {
      "cell_type": "code",
      "source": [
        "##리샘플링"
      ],
      "metadata": {
        "id": "kgwT5uMx39sM"
      },
      "execution_count": 29,
      "outputs": []
    },
    {
      "cell_type": "code",
      "source": [
        "dr=pd.date_range('2020-01-01',periods=200,freq='D')\n",
        "ts=pd.Series(np.random.randn(len(dr)),index=dr)\n",
        "ts"
      ],
      "metadata": {
        "colab": {
          "base_uri": "https://localhost:8080/"
        },
        "id": "CTYRzk7u4-wj",
        "outputId": "f21a4d4e-ae81-4e45-ea0a-b626fb2d17f0"
      },
      "execution_count": 30,
      "outputs": [
        {
          "output_type": "execute_result",
          "data": {
            "text/plain": [
              "2020-01-01   -0.908647\n",
              "2020-01-02    0.635092\n",
              "2020-01-03    0.669503\n",
              "2020-01-04    2.183332\n",
              "2020-01-05    0.138070\n",
              "                ...   \n",
              "2020-07-14   -0.475265\n",
              "2020-07-15   -1.360182\n",
              "2020-07-16    1.055858\n",
              "2020-07-17   -1.060799\n",
              "2020-07-18    0.353347\n",
              "Freq: D, Length: 200, dtype: float64"
            ]
          },
          "metadata": {},
          "execution_count": 30
        }
      ]
    },
    {
      "cell_type": "code",
      "source": [
        "ts.resample('M').mean()"
      ],
      "metadata": {
        "colab": {
          "base_uri": "https://localhost:8080/"
        },
        "id": "HG3KNLGM5bjv",
        "outputId": "a7c462e0-6363-4cf0-f7e4-6e070d7df1ae"
      },
      "execution_count": 31,
      "outputs": [
        {
          "output_type": "execute_result",
          "data": {
            "text/plain": [
              "2020-01-31    0.089747\n",
              "2020-02-29   -0.058954\n",
              "2020-03-31    0.233680\n",
              "2020-04-30   -0.013128\n",
              "2020-05-31   -0.237660\n",
              "2020-06-30    0.031524\n",
              "2020-07-31    0.073424\n",
              "Freq: M, dtype: float64"
            ]
          },
          "metadata": {},
          "execution_count": 31
        }
      ]
    },
    {
      "cell_type": "code",
      "source": [
        "ts.resample('M',kind='period').mean()"
      ],
      "metadata": {
        "colab": {
          "base_uri": "https://localhost:8080/"
        },
        "id": "Dpp7yc-C5g2n",
        "outputId": "5c23c0a0-ac84-4017-e555-f42f774fa032"
      },
      "execution_count": 32,
      "outputs": [
        {
          "output_type": "execute_result",
          "data": {
            "text/plain": [
              "2020-01    0.089747\n",
              "2020-02   -0.058954\n",
              "2020-03    0.233680\n",
              "2020-04   -0.013128\n",
              "2020-05   -0.237660\n",
              "2020-06    0.031524\n",
              "2020-07    0.073424\n",
              "Freq: M, dtype: float64"
            ]
          },
          "metadata": {},
          "execution_count": 32
        }
      ]
    },
    {
      "cell_type": "code",
      "source": [
        "dr=pd.date_range('2020-01-01',periods=10,freq='T')\n",
        "ts=pd.Series(np.arange(10),index=dr)\n",
        "ts"
      ],
      "metadata": {
        "colab": {
          "base_uri": "https://localhost:8080/"
        },
        "id": "4lYRaM9l56sv",
        "outputId": "a3f14076-5a27-4bac-b1d1-5275d88f3953"
      },
      "execution_count": 35,
      "outputs": [
        {
          "output_type": "execute_result",
          "data": {
            "text/plain": [
              "2020-01-01 00:00:00    0\n",
              "2020-01-01 00:01:00    1\n",
              "2020-01-01 00:02:00    2\n",
              "2020-01-01 00:03:00    3\n",
              "2020-01-01 00:04:00    4\n",
              "2020-01-01 00:05:00    5\n",
              "2020-01-01 00:06:00    6\n",
              "2020-01-01 00:07:00    7\n",
              "2020-01-01 00:08:00    8\n",
              "2020-01-01 00:09:00    9\n",
              "Freq: T, dtype: int64"
            ]
          },
          "metadata": {},
          "execution_count": 35
        }
      ]
    },
    {
      "cell_type": "code",
      "source": [
        "ts.resample('2T',closed='left').sum()"
      ],
      "metadata": {
        "colab": {
          "base_uri": "https://localhost:8080/"
        },
        "id": "xBiUwDv16JQn",
        "outputId": "cc6b4124-b54e-4996-b74f-6df3fc44f742"
      },
      "execution_count": 36,
      "outputs": [
        {
          "output_type": "execute_result",
          "data": {
            "text/plain": [
              "2020-01-01 00:00:00     1\n",
              "2020-01-01 00:02:00     5\n",
              "2020-01-01 00:04:00     9\n",
              "2020-01-01 00:06:00    13\n",
              "2020-01-01 00:08:00    17\n",
              "Freq: 2T, dtype: int64"
            ]
          },
          "metadata": {},
          "execution_count": 36
        }
      ]
    },
    {
      "cell_type": "code",
      "source": [
        "ts.resample('2T',closed='right').sum()"
      ],
      "metadata": {
        "colab": {
          "base_uri": "https://localhost:8080/"
        },
        "id": "xYasx3vx6W6b",
        "outputId": "208770da-4f44-4ea6-dedf-0db8e5c4d212"
      },
      "execution_count": 37,
      "outputs": [
        {
          "output_type": "execute_result",
          "data": {
            "text/plain": [
              "2019-12-31 23:58:00     0\n",
              "2020-01-01 00:00:00     3\n",
              "2020-01-01 00:02:00     7\n",
              "2020-01-01 00:04:00    11\n",
              "2020-01-01 00:06:00    15\n",
              "2020-01-01 00:08:00     9\n",
              "Freq: 2T, dtype: int64"
            ]
          },
          "metadata": {},
          "execution_count": 37
        }
      ]
    },
    {
      "cell_type": "code",
      "source": [
        "##무빙 윈도우"
      ],
      "metadata": {
        "id": "zehHWvtv6gTZ"
      },
      "execution_count": 38,
      "outputs": []
    },
    {
      "cell_type": "code",
      "source": [
        "df=pd.DataFrame(np.random.randn(300,4),\n",
        "                index=pd.date_range('2020-01-01',periods=300,freq='D'),\n",
        "                columns=['C1','C2','C3','C4'])\n",
        "df"
      ],
      "metadata": {
        "colab": {
          "base_uri": "https://localhost:8080/",
          "height": 423
        },
        "id": "2YZ96zOC62NV",
        "outputId": "758e2a8d-956d-49a9-e6c9-365c22b05fea"
      },
      "execution_count": 40,
      "outputs": [
        {
          "output_type": "execute_result",
          "data": {
            "text/html": [
              "\n",
              "  <div id=\"df-847046e5-5a48-424c-b291-44e78c3b7f17\">\n",
              "    <div class=\"colab-df-container\">\n",
              "      <div>\n",
              "<style scoped>\n",
              "    .dataframe tbody tr th:only-of-type {\n",
              "        vertical-align: middle;\n",
              "    }\n",
              "\n",
              "    .dataframe tbody tr th {\n",
              "        vertical-align: top;\n",
              "    }\n",
              "\n",
              "    .dataframe thead th {\n",
              "        text-align: right;\n",
              "    }\n",
              "</style>\n",
              "<table border=\"1\" class=\"dataframe\">\n",
              "  <thead>\n",
              "    <tr style=\"text-align: right;\">\n",
              "      <th></th>\n",
              "      <th>C1</th>\n",
              "      <th>C2</th>\n",
              "      <th>C3</th>\n",
              "      <th>C4</th>\n",
              "    </tr>\n",
              "  </thead>\n",
              "  <tbody>\n",
              "    <tr>\n",
              "      <th>2020-01-01</th>\n",
              "      <td>1.718605</td>\n",
              "      <td>0.909530</td>\n",
              "      <td>-0.053516</td>\n",
              "      <td>1.878093</td>\n",
              "    </tr>\n",
              "    <tr>\n",
              "      <th>2020-01-02</th>\n",
              "      <td>-0.197153</td>\n",
              "      <td>1.044659</td>\n",
              "      <td>1.243850</td>\n",
              "      <td>-0.143683</td>\n",
              "    </tr>\n",
              "    <tr>\n",
              "      <th>2020-01-03</th>\n",
              "      <td>-1.001971</td>\n",
              "      <td>0.865566</td>\n",
              "      <td>0.372763</td>\n",
              "      <td>0.060230</td>\n",
              "    </tr>\n",
              "    <tr>\n",
              "      <th>2020-01-04</th>\n",
              "      <td>-0.014645</td>\n",
              "      <td>-0.811211</td>\n",
              "      <td>0.400402</td>\n",
              "      <td>0.535624</td>\n",
              "    </tr>\n",
              "    <tr>\n",
              "      <th>2020-01-05</th>\n",
              "      <td>-0.157716</td>\n",
              "      <td>0.580371</td>\n",
              "      <td>1.111097</td>\n",
              "      <td>0.290874</td>\n",
              "    </tr>\n",
              "    <tr>\n",
              "      <th>...</th>\n",
              "      <td>...</td>\n",
              "      <td>...</td>\n",
              "      <td>...</td>\n",
              "      <td>...</td>\n",
              "    </tr>\n",
              "    <tr>\n",
              "      <th>2020-10-22</th>\n",
              "      <td>0.058354</td>\n",
              "      <td>0.098172</td>\n",
              "      <td>-1.529130</td>\n",
              "      <td>0.735111</td>\n",
              "    </tr>\n",
              "    <tr>\n",
              "      <th>2020-10-23</th>\n",
              "      <td>-1.643943</td>\n",
              "      <td>-0.588517</td>\n",
              "      <td>-1.018039</td>\n",
              "      <td>-0.260255</td>\n",
              "    </tr>\n",
              "    <tr>\n",
              "      <th>2020-10-24</th>\n",
              "      <td>-1.296094</td>\n",
              "      <td>-0.947715</td>\n",
              "      <td>-1.874244</td>\n",
              "      <td>1.325140</td>\n",
              "    </tr>\n",
              "    <tr>\n",
              "      <th>2020-10-25</th>\n",
              "      <td>0.087842</td>\n",
              "      <td>-1.060775</td>\n",
              "      <td>0.503193</td>\n",
              "      <td>-1.332923</td>\n",
              "    </tr>\n",
              "    <tr>\n",
              "      <th>2020-10-26</th>\n",
              "      <td>0.188423</td>\n",
              "      <td>0.590585</td>\n",
              "      <td>1.763551</td>\n",
              "      <td>1.624719</td>\n",
              "    </tr>\n",
              "  </tbody>\n",
              "</table>\n",
              "<p>300 rows × 4 columns</p>\n",
              "</div>\n",
              "      <button class=\"colab-df-convert\" onclick=\"convertToInteractive('df-847046e5-5a48-424c-b291-44e78c3b7f17')\"\n",
              "              title=\"Convert this dataframe to an interactive table.\"\n",
              "              style=\"display:none;\">\n",
              "        \n",
              "  <svg xmlns=\"http://www.w3.org/2000/svg\" height=\"24px\"viewBox=\"0 0 24 24\"\n",
              "       width=\"24px\">\n",
              "    <path d=\"M0 0h24v24H0V0z\" fill=\"none\"/>\n",
              "    <path d=\"M18.56 5.44l.94 2.06.94-2.06 2.06-.94-2.06-.94-.94-2.06-.94 2.06-2.06.94zm-11 1L8.5 8.5l.94-2.06 2.06-.94-2.06-.94L8.5 2.5l-.94 2.06-2.06.94zm10 10l.94 2.06.94-2.06 2.06-.94-2.06-.94-.94-2.06-.94 2.06-2.06.94z\"/><path d=\"M17.41 7.96l-1.37-1.37c-.4-.4-.92-.59-1.43-.59-.52 0-1.04.2-1.43.59L10.3 9.45l-7.72 7.72c-.78.78-.78 2.05 0 2.83L4 21.41c.39.39.9.59 1.41.59.51 0 1.02-.2 1.41-.59l7.78-7.78 2.81-2.81c.8-.78.8-2.07 0-2.86zM5.41 20L4 18.59l7.72-7.72 1.47 1.35L5.41 20z\"/>\n",
              "  </svg>\n",
              "      </button>\n",
              "      \n",
              "  <style>\n",
              "    .colab-df-container {\n",
              "      display:flex;\n",
              "      flex-wrap:wrap;\n",
              "      gap: 12px;\n",
              "    }\n",
              "\n",
              "    .colab-df-convert {\n",
              "      background-color: #E8F0FE;\n",
              "      border: none;\n",
              "      border-radius: 50%;\n",
              "      cursor: pointer;\n",
              "      display: none;\n",
              "      fill: #1967D2;\n",
              "      height: 32px;\n",
              "      padding: 0 0 0 0;\n",
              "      width: 32px;\n",
              "    }\n",
              "\n",
              "    .colab-df-convert:hover {\n",
              "      background-color: #E2EBFA;\n",
              "      box-shadow: 0px 1px 2px rgba(60, 64, 67, 0.3), 0px 1px 3px 1px rgba(60, 64, 67, 0.15);\n",
              "      fill: #174EA6;\n",
              "    }\n",
              "\n",
              "    [theme=dark] .colab-df-convert {\n",
              "      background-color: #3B4455;\n",
              "      fill: #D2E3FC;\n",
              "    }\n",
              "\n",
              "    [theme=dark] .colab-df-convert:hover {\n",
              "      background-color: #434B5C;\n",
              "      box-shadow: 0px 1px 3px 1px rgba(0, 0, 0, 0.15);\n",
              "      filter: drop-shadow(0px 1px 2px rgba(0, 0, 0, 0.3));\n",
              "      fill: #FFFFFF;\n",
              "    }\n",
              "  </style>\n",
              "\n",
              "      <script>\n",
              "        const buttonEl =\n",
              "          document.querySelector('#df-847046e5-5a48-424c-b291-44e78c3b7f17 button.colab-df-convert');\n",
              "        buttonEl.style.display =\n",
              "          google.colab.kernel.accessAllowed ? 'block' : 'none';\n",
              "\n",
              "        async function convertToInteractive(key) {\n",
              "          const element = document.querySelector('#df-847046e5-5a48-424c-b291-44e78c3b7f17');\n",
              "          const dataTable =\n",
              "            await google.colab.kernel.invokeFunction('convertToInteractive',\n",
              "                                                     [key], {});\n",
              "          if (!dataTable) return;\n",
              "\n",
              "          const docLinkHtml = 'Like what you see? Visit the ' +\n",
              "            '<a target=\"_blank\" href=https://colab.research.google.com/notebooks/data_table.ipynb>data table notebook</a>'\n",
              "            + ' to learn more about interactive tables.';\n",
              "          element.innerHTML = '';\n",
              "          dataTable['output_type'] = 'display_data';\n",
              "          await google.colab.output.renderOutput(dataTable, element);\n",
              "          const docLink = document.createElement('div');\n",
              "          docLink.innerHTML = docLinkHtml;\n",
              "          element.appendChild(docLink);\n",
              "        }\n",
              "      </script>\n",
              "    </div>\n",
              "  </div>\n",
              "  "
            ],
            "text/plain": [
              "                  C1        C2        C3        C4\n",
              "2020-01-01  1.718605  0.909530 -0.053516  1.878093\n",
              "2020-01-02 -0.197153  1.044659  1.243850 -0.143683\n",
              "2020-01-03 -1.001971  0.865566  0.372763  0.060230\n",
              "2020-01-04 -0.014645 -0.811211  0.400402  0.535624\n",
              "2020-01-05 -0.157716  0.580371  1.111097  0.290874\n",
              "...              ...       ...       ...       ...\n",
              "2020-10-22  0.058354  0.098172 -1.529130  0.735111\n",
              "2020-10-23 -1.643943 -0.588517 -1.018039 -0.260255\n",
              "2020-10-24 -1.296094 -0.947715 -1.874244  1.325140\n",
              "2020-10-25  0.087842 -1.060775  0.503193 -1.332923\n",
              "2020-10-26  0.188423  0.590585  1.763551  1.624719\n",
              "\n",
              "[300 rows x 4 columns]"
            ]
          },
          "metadata": {},
          "execution_count": 40
        }
      ]
    },
    {
      "cell_type": "code",
      "source": [
        "df.rolling(30).mean().plot()##30일 치 이동평균"
      ],
      "metadata": {
        "colab": {
          "base_uri": "https://localhost:8080/",
          "height": 295
        },
        "id": "ye66W_8f7-EK",
        "outputId": "372332a9-935f-4301-80d7-7a4a03a749a2"
      },
      "execution_count": 42,
      "outputs": [
        {
          "output_type": "execute_result",
          "data": {
            "text/plain": [
              "<matplotlib.axes._subplots.AxesSubplot at 0x7fa1c599a350>"
            ]
          },
          "metadata": {},
          "execution_count": 42
        },
        {
          "output_type": "display_data",
          "data": {
            "image/png": "[encoded data removed]",
            "text/plain": [
              "<Figure size 432x288 with 1 Axes>"
            ]
          },
          "metadata": {
            "needs_background": "light"
          }
        }
      ]
    },
    {
      "cell_type": "code",
      "source": [
        "df.rolling(60).mean().plot()"
      ],
      "metadata": {
        "colab": {
          "base_uri": "https://localhost:8080/",
          "height": 295
        },
        "id": "hfpJO39u8HGv",
        "outputId": "bd8bbad9-caba-497c-9ae9-03929b01400b"
      },
      "execution_count": 44,
      "outputs": [
        {
          "output_type": "execute_result",
          "data": {
            "text/plain": [
              "<matplotlib.axes._subplots.AxesSubplot at 0x7fa1c5ad8d50>"
            ]
          },
          "metadata": {},
          "execution_count": 44
        },
        {
          "output_type": "display_data",
          "data": {
            "image/png": "[encoded data removed]",
            "text/plain": [
              "<Figure size 432x288 with 1 Axes>"
            ]
          },
          "metadata": {
            "needs_background": "light"
          }
        }
      ]
    },
    {
      "cell_type": "code",
      "source": [
        "df.C1.rolling(60,min_periods=10).std().plot()"
      ],
      "metadata": {
        "colab": {
          "base_uri": "https://localhost:8080/",
          "height": 295
        },
        "id": "AfLGj-Mt8S8l",
        "outputId": "bec58f3f-1d6d-4fa3-de60-54d7b6d97d88"
      },
      "execution_count": 45,
      "outputs": [
        {
          "output_type": "execute_result",
          "data": {
            "text/plain": [
              "<matplotlib.axes._subplots.AxesSubplot at 0x7fa1c5220290>"
            ]
          },
          "metadata": {},
          "execution_count": 45
        },
        {
          "output_type": "display_data",
          "data": {
            "image/png": "[encoded data removed]",
            "text/plain": [
              "<Figure size 432x288 with 1 Axes>"
            ]
          },
          "metadata": {
            "needs_background": "light"
          }
        }
      ]
    },
    {
      "cell_type": "code",
      "source": [
        "df.rolling(60,min_periods=10).std()[10:50].plot()"
      ],
      "metadata": {
        "colab": {
          "base_uri": "https://localhost:8080/",
          "height": 317
        },
        "id": "Hz5oGokk8brM",
        "outputId": "a23f0a12-5f03-4658-fa1f-42b822a98cc4"
      },
      "execution_count": 46,
      "outputs": [
        {
          "output_type": "execute_result",
          "data": {
            "text/plain": [
              "<matplotlib.axes._subplots.AxesSubplot at 0x7fa1c5184d90>"
            ]
          },
          "metadata": {},
          "execution_count": 46
        },
        {
          "output_type": "display_data",
          "data": {
            "image/png": "[encoded data removed]",
            "text/plain": [
              "<Figure size 432x288 with 1 Axes>"
            ]
          },
          "metadata": {
            "needs_background": "light"
          }
        }
      ]
    },
    {
      "cell_type": "code",
      "source": [
        "df.C1.rolling(100,min_periods=50).corr(df.C3).plot()"
      ],
      "metadata": {
        "colab": {
          "base_uri": "https://localhost:8080/",
          "height": 297
        },
        "id": "WrNR7AnO8lzR",
        "outputId": "40f5d3cb-8dac-44a7-bbeb-b5aa55cf498d"
      },
      "execution_count": 47,
      "outputs": [
        {
          "output_type": "execute_result",
          "data": {
            "text/plain": [
              "<matplotlib.axes._subplots.AxesSubplot at 0x7fa1c5083490>"
            ]
          },
          "metadata": {},
          "execution_count": 47
        },
        {
          "output_type": "display_data",
          "data": {
            "image/png": "[encoded data removed]",
            "text/plain": [
              "<Figure size 432x288 with 1 Axes>"
            ]
          },
          "metadata": {
            "needs_background": "light"
          }
        }
      ]
    },
    {
      "cell_type": "code",
      "source": [
        ""
      ],
      "metadata": {
        "id": "bxmi5_0M80bn"
      },
      "execution_count": null,
      "outputs": []
    }
  ]
}